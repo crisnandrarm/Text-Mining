{
  "nbformat": 4,
  "nbformat_minor": 0,
  "metadata": {
    "colab": {
      "name": "Text Mining_Task",
      "provenance": [],
      "collapsed_sections": [
        "qFDOtH0guke6",
        "xJSccII_vYN_",
        "3SxLNriivz-U",
        "oxnAOntXv2Sf",
        "yTBhSYpxv5Xu",
        "SM31GdcSzhif",
        "e1eHsSQX0bbG",
        "_GCRrnL6yxNF",
        "8NgEsPaPy0fk",
        "adKQpmsUy4yU",
        "SQuScH-xzDh_",
        "sD6oXyPqy7HW",
        "6eNr66sezKsy",
        "PRCIEUH7ysqT",
        "x9ncqWEqysqb",
        "EsmWZtQczTOv",
        "CcztlRv00cQR",
        "fScNzejE0u_W",
        "q13dOBoI0u_X",
        "HgWjU98q1kOo",
        "myR3TvYebW1P"
      ],
      "authorship_tag": "ABX9TyO6xJV6IhXztq2TEA3WXsAR",
      "include_colab_link": true
    },
    "kernelspec": {
      "name": "python3",
      "display_name": "Python 3"
    }
  },
  "cells": [
    {
      "cell_type": "markdown",
      "metadata": {
        "id": "view-in-github",
        "colab_type": "text"
      },
      "source": [
        "<a href=\"https://colab.research.google.com/github/crisnandrarm/Text-Mining/blob/main/Text_Mining_Task.ipynb\" target=\"_parent\"><img src=\"https://colab.research.google.com/assets/colab-badge.svg\" alt=\"Open In Colab\"/></a>"
      ]
    },
    {
      "cell_type": "markdown",
      "metadata": {
        "id": "Cto8BWu9t6R2"
      },
      "source": [
        "# **Text Mining (Case Study: Hate Speech Detection)**\n"
      ]
    },
    {
      "cell_type": "markdown",
      "metadata": {
        "id": "qFDOtH0guke6"
      },
      "source": [
        "## **Dataset Description**"
      ]
    },
    {
      "cell_type": "markdown",
      "metadata": {
        "id": "Rs-fN0kZvJfK"
      },
      "source": [
        "The dataset is a two columns data of: label - tweet, consist of 713 tweets in Indonesian.\n",
        "\n",
        "The label is Non_HS or HS. Non_HS for \"non-hate-speech\" tweet and HS for \"hate-speech\" tweet.\n",
        "\n",
        "- Number of Non_HS tweets: 453\n",
        "- Number of HS tweets: 260\n",
        "\n"
      ]
    },
    {
      "cell_type": "markdown",
      "metadata": {
        "id": "xJSccII_vYN_"
      },
      "source": [
        "##### **Data Source:**"
      ]
    },
    {
      "cell_type": "markdown",
      "metadata": {
        "id": "uaToR4oCvZbo"
      },
      "source": [
        "[Ika Alfina, Rio Mulia, Mohamad Ivan Fanany, and Yudo Ekanata, \"Hate Speech Detection in Indonesian Language: A Dataset and Preliminary Study \", in Proceeding of 9th International Conference on Advanced Computer Science and Information Systems 2017(ICACSIS 2017)](https://www.researchgate.net/publication/320131169_Hate_Speech_Detection_in_the_Indonesian_Language_A_Dataset_and_Preliminary_Study\n",
        ")"
      ]
    },
    {
      "cell_type": "markdown",
      "metadata": {
        "id": "3SxLNriivz-U"
      },
      "source": [
        "## **Analysis with Python Code**"
      ]
    },
    {
      "cell_type": "markdown",
      "metadata": {
        "id": "oxnAOntXv2Sf"
      },
      "source": [
        "### **Import Library**\n"
      ]
    },
    {
      "cell_type": "code",
      "metadata": {
        "colab": {
          "base_uri": "https://localhost:8080/"
        },
        "id": "yOpFmlP5tT5t",
        "outputId": "c316c3fc-2542-44c2-e60d-9ef43abaf36d"
      },
      "source": [
        "# Library for dataset\n",
        "import pandas as pd\n",
        "import numpy as np\n",
        "\n",
        "# Library for data visualization\n",
        "import matplotlib.pyplot as plt\n",
        "import seaborn as sns\n",
        "import plotly.express as px\n",
        "\n",
        "# Library for preprocessing\n",
        "import re\n",
        "import nltk\n",
        "from nltk.corpus import stopwords\n",
        "from Sastrawi.Stemmer.StemmerFactory import StemmerFactory\n",
        "from sklearn.feature_extraction.text import TfidfVectorizer\n",
        "from imblearn.over_sampling import SMOTE\n",
        "from sklearn.model_selection import train_test_split, cross_val_score\n",
        "from sklearn.preprocessing import LabelEncoder\n",
        "\n",
        "\n",
        "#Library for classification\n",
        "from sklearn.naive_bayes import GaussianNB \n",
        "from sklearn.svm import SVC\n",
        "from sklearn.neural_network import MLPClassifier\n",
        "from sklearn.neighbors import KNeighborsClassifier\n",
        "from sklearn.ensemble import RandomForestClassifier\n",
        "from sklearn.model_selection import GridSearchCV\n",
        "from sklearn.model_selection import RandomizedSearchCV\n",
        "from sklearn.linear_model import LogisticRegression\n",
        "\n",
        "#Library for Evaluation\n",
        "from sklearn import metrics\n",
        "from sklearn.metrics import classification_report\n",
        "from mlxtend.plotting import plot_confusion_matrix\n",
        "\n"
      ],
      "execution_count": 1,
      "outputs": [
        {
          "output_type": "stream",
          "text": [
            "/usr/local/lib/python3.6/dist-packages/sklearn/externals/six.py:31: FutureWarning:\n",
            "\n",
            "The module is deprecated in version 0.21 and will be removed in version 0.23 since we've dropped support for Python 2.7. Please rely on the official version of six (https://pypi.org/project/six/).\n",
            "\n",
            "/usr/local/lib/python3.6/dist-packages/sklearn/utils/deprecation.py:144: FutureWarning:\n",
            "\n",
            "The sklearn.neighbors.base module is  deprecated in version 0.22 and will be removed in version 0.24. The corresponding classes / functions should instead be imported from sklearn.neighbors. Anything that cannot be imported from sklearn.neighbors is now part of the private API.\n",
            "\n"
          ],
          "name": "stderr"
        }
      ]
    },
    {
      "cell_type": "code",
      "metadata": {
        "id": "bUeutW80gf_O"
      },
      "source": [
        "# ! pip3 install Sastrawi\n",
        "# nltk.download('punkt')\n",
        "# nltk.download('stopwords')"
      ],
      "execution_count": 2,
      "outputs": []
    },
    {
      "cell_type": "markdown",
      "metadata": {
        "id": "yTBhSYpxv5Xu"
      },
      "source": [
        "### **Dataset**\n"
      ]
    },
    {
      "cell_type": "code",
      "metadata": {
        "colab": {
          "base_uri": "https://localhost:8080/",
          "height": 0
        },
        "id": "Oat6ZOVqv8By",
        "outputId": "d026c3ef-9317-438c-9a4e-81b674785807"
      },
      "source": [
        "df = pd.read_csv('https://raw.githubusercontent.com/ialfina/id-hatespeech-detection/master/IDHSD_RIO_unbalanced_713_2017.txt', sep='\\t', encoding = \"ISO-8859-1\", dtype=str)\n",
        "df.head()"
      ],
      "execution_count": 3,
      "outputs": [
        {
          "output_type": "execute_result",
          "data": {
            "text/html": [
              "<div>\n",
              "<style scoped>\n",
              "    .dataframe tbody tr th:only-of-type {\n",
              "        vertical-align: middle;\n",
              "    }\n",
              "\n",
              "    .dataframe tbody tr th {\n",
              "        vertical-align: top;\n",
              "    }\n",
              "\n",
              "    .dataframe thead th {\n",
              "        text-align: right;\n",
              "    }\n",
              "</style>\n",
              "<table border=\"1\" class=\"dataframe\">\n",
              "  <thead>\n",
              "    <tr style=\"text-align: right;\">\n",
              "      <th></th>\n",
              "      <th>Label</th>\n",
              "      <th>Tweet</th>\n",
              "    </tr>\n",
              "  </thead>\n",
              "  <tbody>\n",
              "    <tr>\n",
              "      <th>0</th>\n",
              "      <td>Non_HS</td>\n",
              "      <td>RT @spardaxyz: Fadli Zon Minta Mendagri Segera...</td>\n",
              "    </tr>\n",
              "    <tr>\n",
              "      <th>1</th>\n",
              "      <td>Non_HS</td>\n",
              "      <td>RT @baguscondromowo: Mereka terus melukai aksi...</td>\n",
              "    </tr>\n",
              "    <tr>\n",
              "      <th>2</th>\n",
              "      <td>Non_HS</td>\n",
              "      <td>Sylvi: bagaimana gurbernur melakukan kekerasan...</td>\n",
              "    </tr>\n",
              "    <tr>\n",
              "      <th>3</th>\n",
              "      <td>Non_HS</td>\n",
              "      <td>Ahmad Dhani Tak Puas Debat Pilkada, Masalah Ja...</td>\n",
              "    </tr>\n",
              "    <tr>\n",
              "      <th>4</th>\n",
              "      <td>Non_HS</td>\n",
              "      <td>RT @lisdaulay28: Waspada KTP palsu.....kawal P...</td>\n",
              "    </tr>\n",
              "  </tbody>\n",
              "</table>\n",
              "</div>"
            ],
            "text/plain": [
              "    Label                                              Tweet\n",
              "0  Non_HS  RT @spardaxyz: Fadli Zon Minta Mendagri Segera...\n",
              "1  Non_HS  RT @baguscondromowo: Mereka terus melukai aksi...\n",
              "2  Non_HS  Sylvi: bagaimana gurbernur melakukan kekerasan...\n",
              "3  Non_HS  Ahmad Dhani Tak Puas Debat Pilkada, Masalah Ja...\n",
              "4  Non_HS  RT @lisdaulay28: Waspada KTP palsu.....kawal P..."
            ]
          },
          "metadata": {
            "tags": []
          },
          "execution_count": 3
        }
      ]
    },
    {
      "cell_type": "code",
      "metadata": {
        "colab": {
          "base_uri": "https://localhost:8080/",
          "height": 0
        },
        "id": "GZVFLbhXxPra",
        "outputId": "93ed1a0e-8b45-42c1-ef4c-d9d303a048c9"
      },
      "source": [
        "count_label =df.Label.value_counts().to_frame()\n",
        "px.bar(data_frame=count_label, x=count_label.index , y='Label')"
      ],
      "execution_count": 4,
      "outputs": [
        {
          "output_type": "display_data",
          "data": {
            "text/html": [
              "<html>\n",
              "<head><meta charset=\"utf-8\" /></head>\n",
              "<body>\n",
              "    <div>\n",
              "            <script src=\"https://cdnjs.cloudflare.com/ajax/libs/mathjax/2.7.5/MathJax.js?config=TeX-AMS-MML_SVG\"></script><script type=\"text/javascript\">if (window.MathJax) {MathJax.Hub.Config({SVG: {font: \"STIX-Web\"}});}</script>\n",
              "                <script type=\"text/javascript\">window.PlotlyConfig = {MathJaxConfig: 'local'};</script>\n",
              "        <script src=\"https://cdn.plot.ly/plotly-latest.min.js\"></script>    \n",
              "            <div id=\"e4d86d33-5e39-45da-a677-deff49c311be\" class=\"plotly-graph-div\" style=\"height:525px; width:100%;\"></div>\n",
              "            <script type=\"text/javascript\">\n",
              "                \n",
              "                    window.PLOTLYENV=window.PLOTLYENV || {};\n",
              "                    \n",
              "                if (document.getElementById(\"e4d86d33-5e39-45da-a677-deff49c311be\")) {\n",
              "                    Plotly.newPlot(\n",
              "                        'e4d86d33-5e39-45da-a677-deff49c311be',\n",
              "                        [{\"alignmentgroup\": \"True\", \"hoverlabel\": {\"namelength\": 0}, \"hovertemplate\": \"x=%{x}<br>Label=%{y}\", \"legendgroup\": \"\", \"marker\": {\"color\": \"#636efa\"}, \"name\": \"\", \"offsetgroup\": \"\", \"orientation\": \"v\", \"showlegend\": false, \"textposition\": \"auto\", \"type\": \"bar\", \"x\": [\"Non_HS\", \"HS\"], \"xaxis\": \"x\", \"y\": [453, 260], \"yaxis\": \"y\"}],\n",
              "                        {\"barmode\": \"relative\", \"legend\": {\"tracegroupgap\": 0}, \"margin\": {\"t\": 60}, \"template\": {\"data\": {\"bar\": [{\"error_x\": {\"color\": \"#2a3f5f\"}, \"error_y\": {\"color\": \"#2a3f5f\"}, \"marker\": {\"line\": {\"color\": \"#E5ECF6\", \"width\": 0.5}}, \"type\": \"bar\"}], \"barpolar\": [{\"marker\": {\"line\": {\"color\": \"#E5ECF6\", \"width\": 0.5}}, \"type\": \"barpolar\"}], \"carpet\": [{\"aaxis\": {\"endlinecolor\": \"#2a3f5f\", \"gridcolor\": \"white\", \"linecolor\": \"white\", \"minorgridcolor\": \"white\", \"startlinecolor\": \"#2a3f5f\"}, \"baxis\": {\"endlinecolor\": \"#2a3f5f\", \"gridcolor\": \"white\", \"linecolor\": \"white\", \"minorgridcolor\": \"white\", \"startlinecolor\": \"#2a3f5f\"}, \"type\": \"carpet\"}], \"choropleth\": [{\"colorbar\": {\"outlinewidth\": 0, \"ticks\": \"\"}, \"type\": \"choropleth\"}], \"contour\": [{\"colorbar\": {\"outlinewidth\": 0, \"ticks\": \"\"}, \"colorscale\": [[0.0, \"#0d0887\"], [0.1111111111111111, \"#46039f\"], [0.2222222222222222, \"#7201a8\"], [0.3333333333333333, \"#9c179e\"], [0.4444444444444444, \"#bd3786\"], [0.5555555555555556, \"#d8576b\"], [0.6666666666666666, \"#ed7953\"], [0.7777777777777778, \"#fb9f3a\"], [0.8888888888888888, \"#fdca26\"], [1.0, \"#f0f921\"]], \"type\": \"contour\"}], \"contourcarpet\": [{\"colorbar\": {\"outlinewidth\": 0, \"ticks\": \"\"}, \"type\": \"contourcarpet\"}], \"heatmap\": [{\"colorbar\": {\"outlinewidth\": 0, \"ticks\": \"\"}, \"colorscale\": [[0.0, \"#0d0887\"], [0.1111111111111111, \"#46039f\"], [0.2222222222222222, \"#7201a8\"], [0.3333333333333333, \"#9c179e\"], [0.4444444444444444, \"#bd3786\"], [0.5555555555555556, \"#d8576b\"], [0.6666666666666666, \"#ed7953\"], [0.7777777777777778, \"#fb9f3a\"], [0.8888888888888888, \"#fdca26\"], [1.0, \"#f0f921\"]], \"type\": \"heatmap\"}], \"heatmapgl\": [{\"colorbar\": {\"outlinewidth\": 0, \"ticks\": \"\"}, \"colorscale\": [[0.0, \"#0d0887\"], [0.1111111111111111, \"#46039f\"], [0.2222222222222222, \"#7201a8\"], [0.3333333333333333, \"#9c179e\"], [0.4444444444444444, \"#bd3786\"], [0.5555555555555556, \"#d8576b\"], [0.6666666666666666, \"#ed7953\"], [0.7777777777777778, \"#fb9f3a\"], [0.8888888888888888, \"#fdca26\"], [1.0, \"#f0f921\"]], \"type\": \"heatmapgl\"}], \"histogram\": [{\"marker\": {\"colorbar\": {\"outlinewidth\": 0, \"ticks\": \"\"}}, \"type\": \"histogram\"}], \"histogram2d\": [{\"colorbar\": {\"outlinewidth\": 0, \"ticks\": \"\"}, \"colorscale\": [[0.0, \"#0d0887\"], [0.1111111111111111, \"#46039f\"], [0.2222222222222222, \"#7201a8\"], [0.3333333333333333, \"#9c179e\"], [0.4444444444444444, \"#bd3786\"], [0.5555555555555556, \"#d8576b\"], [0.6666666666666666, \"#ed7953\"], [0.7777777777777778, \"#fb9f3a\"], [0.8888888888888888, \"#fdca26\"], [1.0, \"#f0f921\"]], \"type\": \"histogram2d\"}], \"histogram2dcontour\": [{\"colorbar\": {\"outlinewidth\": 0, \"ticks\": \"\"}, \"colorscale\": [[0.0, \"#0d0887\"], [0.1111111111111111, \"#46039f\"], [0.2222222222222222, \"#7201a8\"], [0.3333333333333333, \"#9c179e\"], [0.4444444444444444, \"#bd3786\"], [0.5555555555555556, \"#d8576b\"], [0.6666666666666666, \"#ed7953\"], [0.7777777777777778, \"#fb9f3a\"], [0.8888888888888888, \"#fdca26\"], [1.0, \"#f0f921\"]], \"type\": \"histogram2dcontour\"}], \"mesh3d\": [{\"colorbar\": {\"outlinewidth\": 0, \"ticks\": \"\"}, \"type\": \"mesh3d\"}], \"parcoords\": [{\"line\": {\"colorbar\": {\"outlinewidth\": 0, \"ticks\": \"\"}}, \"type\": \"parcoords\"}], \"pie\": [{\"automargin\": true, \"type\": \"pie\"}], \"scatter\": [{\"marker\": {\"colorbar\": {\"outlinewidth\": 0, \"ticks\": \"\"}}, \"type\": \"scatter\"}], \"scatter3d\": [{\"line\": {\"colorbar\": {\"outlinewidth\": 0, \"ticks\": \"\"}}, \"marker\": {\"colorbar\": {\"outlinewidth\": 0, \"ticks\": \"\"}}, \"type\": \"scatter3d\"}], \"scattercarpet\": [{\"marker\": {\"colorbar\": {\"outlinewidth\": 0, \"ticks\": \"\"}}, \"type\": \"scattercarpet\"}], \"scattergeo\": [{\"marker\": {\"colorbar\": {\"outlinewidth\": 0, \"ticks\": \"\"}}, \"type\": \"scattergeo\"}], \"scattergl\": [{\"marker\": {\"colorbar\": {\"outlinewidth\": 0, \"ticks\": \"\"}}, \"type\": \"scattergl\"}], \"scattermapbox\": [{\"marker\": {\"colorbar\": {\"outlinewidth\": 0, \"ticks\": \"\"}}, \"type\": \"scattermapbox\"}], \"scatterpolar\": [{\"marker\": {\"colorbar\": {\"outlinewidth\": 0, \"ticks\": \"\"}}, \"type\": \"scatterpolar\"}], \"scatterpolargl\": [{\"marker\": {\"colorbar\": {\"outlinewidth\": 0, \"ticks\": \"\"}}, \"type\": \"scatterpolargl\"}], \"scatterternary\": [{\"marker\": {\"colorbar\": {\"outlinewidth\": 0, \"ticks\": \"\"}}, \"type\": \"scatterternary\"}], \"surface\": [{\"colorbar\": {\"outlinewidth\": 0, \"ticks\": \"\"}, \"colorscale\": [[0.0, \"#0d0887\"], [0.1111111111111111, \"#46039f\"], [0.2222222222222222, \"#7201a8\"], [0.3333333333333333, \"#9c179e\"], [0.4444444444444444, \"#bd3786\"], [0.5555555555555556, \"#d8576b\"], [0.6666666666666666, \"#ed7953\"], [0.7777777777777778, \"#fb9f3a\"], [0.8888888888888888, \"#fdca26\"], [1.0, \"#f0f921\"]], \"type\": \"surface\"}], \"table\": [{\"cells\": {\"fill\": {\"color\": \"#EBF0F8\"}, \"line\": {\"color\": \"white\"}}, \"header\": {\"fill\": {\"color\": \"#C8D4E3\"}, \"line\": {\"color\": \"white\"}}, \"type\": \"table\"}]}, \"layout\": {\"annotationdefaults\": {\"arrowcolor\": \"#2a3f5f\", \"arrowhead\": 0, \"arrowwidth\": 1}, \"coloraxis\": {\"colorbar\": {\"outlinewidth\": 0, \"ticks\": \"\"}}, \"colorscale\": {\"diverging\": [[0, \"#8e0152\"], [0.1, \"#c51b7d\"], [0.2, \"#de77ae\"], [0.3, \"#f1b6da\"], [0.4, \"#fde0ef\"], [0.5, \"#f7f7f7\"], [0.6, \"#e6f5d0\"], [0.7, \"#b8e186\"], [0.8, \"#7fbc41\"], [0.9, \"#4d9221\"], [1, \"#276419\"]], \"sequential\": [[0.0, \"#0d0887\"], [0.1111111111111111, \"#46039f\"], [0.2222222222222222, \"#7201a8\"], [0.3333333333333333, \"#9c179e\"], [0.4444444444444444, \"#bd3786\"], [0.5555555555555556, \"#d8576b\"], [0.6666666666666666, \"#ed7953\"], [0.7777777777777778, \"#fb9f3a\"], [0.8888888888888888, \"#fdca26\"], [1.0, \"#f0f921\"]], \"sequentialminus\": [[0.0, \"#0d0887\"], [0.1111111111111111, \"#46039f\"], [0.2222222222222222, \"#7201a8\"], [0.3333333333333333, \"#9c179e\"], [0.4444444444444444, \"#bd3786\"], [0.5555555555555556, \"#d8576b\"], [0.6666666666666666, \"#ed7953\"], [0.7777777777777778, \"#fb9f3a\"], [0.8888888888888888, \"#fdca26\"], [1.0, \"#f0f921\"]]}, \"colorway\": [\"#636efa\", \"#EF553B\", \"#00cc96\", \"#ab63fa\", \"#FFA15A\", \"#19d3f3\", \"#FF6692\", \"#B6E880\", \"#FF97FF\", \"#FECB52\"], \"font\": {\"color\": \"#2a3f5f\"}, \"geo\": {\"bgcolor\": \"white\", \"lakecolor\": \"white\", \"landcolor\": \"#E5ECF6\", \"showlakes\": true, \"showland\": true, \"subunitcolor\": \"white\"}, \"hoverlabel\": {\"align\": \"left\"}, \"hovermode\": \"closest\", \"mapbox\": {\"style\": \"light\"}, \"paper_bgcolor\": \"white\", \"plot_bgcolor\": \"#E5ECF6\", \"polar\": {\"angularaxis\": {\"gridcolor\": \"white\", \"linecolor\": \"white\", \"ticks\": \"\"}, \"bgcolor\": \"#E5ECF6\", \"radialaxis\": {\"gridcolor\": \"white\", \"linecolor\": \"white\", \"ticks\": \"\"}}, \"scene\": {\"xaxis\": {\"backgroundcolor\": \"#E5ECF6\", \"gridcolor\": \"white\", \"gridwidth\": 2, \"linecolor\": \"white\", \"showbackground\": true, \"ticks\": \"\", \"zerolinecolor\": \"white\"}, \"yaxis\": {\"backgroundcolor\": \"#E5ECF6\", \"gridcolor\": \"white\", \"gridwidth\": 2, \"linecolor\": \"white\", \"showbackground\": true, \"ticks\": \"\", \"zerolinecolor\": \"white\"}, \"zaxis\": {\"backgroundcolor\": \"#E5ECF6\", \"gridcolor\": \"white\", \"gridwidth\": 2, \"linecolor\": \"white\", \"showbackground\": true, \"ticks\": \"\", \"zerolinecolor\": \"white\"}}, \"shapedefaults\": {\"line\": {\"color\": \"#2a3f5f\"}}, \"ternary\": {\"aaxis\": {\"gridcolor\": \"white\", \"linecolor\": \"white\", \"ticks\": \"\"}, \"baxis\": {\"gridcolor\": \"white\", \"linecolor\": \"white\", \"ticks\": \"\"}, \"bgcolor\": \"#E5ECF6\", \"caxis\": {\"gridcolor\": \"white\", \"linecolor\": \"white\", \"ticks\": \"\"}}, \"title\": {\"x\": 0.05}, \"xaxis\": {\"automargin\": true, \"gridcolor\": \"white\", \"linecolor\": \"white\", \"ticks\": \"\", \"title\": {\"standoff\": 15}, \"zerolinecolor\": \"white\", \"zerolinewidth\": 2}, \"yaxis\": {\"automargin\": true, \"gridcolor\": \"white\", \"linecolor\": \"white\", \"ticks\": \"\", \"title\": {\"standoff\": 15}, \"zerolinecolor\": \"white\", \"zerolinewidth\": 2}}}, \"xaxis\": {\"anchor\": \"y\", \"domain\": [0.0, 1.0], \"title\": {\"text\": \"x\"}}, \"yaxis\": {\"anchor\": \"x\", \"domain\": [0.0, 1.0], \"title\": {\"text\": \"Label\"}}},\n",
              "                        {\"responsive\": true}\n",
              "                    ).then(function(){\n",
              "                            \n",
              "var gd = document.getElementById('e4d86d33-5e39-45da-a677-deff49c311be');\n",
              "var x = new MutationObserver(function (mutations, observer) {{\n",
              "        var display = window.getComputedStyle(gd).display;\n",
              "        if (!display || display === 'none') {{\n",
              "            console.log([gd, 'removed!']);\n",
              "            Plotly.purge(gd);\n",
              "            observer.disconnect();\n",
              "        }}\n",
              "}});\n",
              "\n",
              "// Listen for the removal of the full notebook cells\n",
              "var notebookContainer = gd.closest('#notebook-container');\n",
              "if (notebookContainer) {{\n",
              "    x.observe(notebookContainer, {childList: true});\n",
              "}}\n",
              "\n",
              "// Listen for the clearing of the current output cell\n",
              "var outputEl = gd.closest('.output');\n",
              "if (outputEl) {{\n",
              "    x.observe(outputEl, {childList: true});\n",
              "}}\n",
              "\n",
              "                        })\n",
              "                };\n",
              "                \n",
              "            </script>\n",
              "        </div>\n",
              "</body>\n",
              "</html>"
            ]
          },
          "metadata": {
            "tags": []
          }
        }
      ]
    },
    {
      "cell_type": "markdown",
      "metadata": {
        "id": "vZZj3oqfxjvd"
      },
      "source": [
        "Dari barchart diatas, dataset yang digunakan memiliki imbalance data label, sehingga pada tahap preprocessing akan dilakukan SMOTE untuk menanggulangi data yang tidak seimbang"
      ]
    },
    {
      "cell_type": "markdown",
      "metadata": {
        "id": "9o8xOnCPyrzH"
      },
      "source": [
        "### **Preprocessing**"
      ]
    },
    {
      "cell_type": "markdown",
      "metadata": {
        "id": "SM31GdcSzhif"
      },
      "source": [
        "#### Case Folding\n"
      ]
    },
    {
      "cell_type": "code",
      "metadata": {
        "id": "yk-ECjYf0PNd"
      },
      "source": [
        "def case_fold(data):\n",
        "    return data.str.lower()"
      ],
      "execution_count": 5,
      "outputs": []
    },
    {
      "cell_type": "code",
      "metadata": {
        "colab": {
          "base_uri": "https://localhost:8080/",
          "height": 0
        },
        "id": "llNDHgXpntHP",
        "outputId": "66313de3-e488-4e1e-a685-345bf0298dd1"
      },
      "source": [
        "df['Tweet'] = case_fold(df['Tweet'])\n",
        "df.head()"
      ],
      "execution_count": 6,
      "outputs": [
        {
          "output_type": "execute_result",
          "data": {
            "text/html": [
              "<div>\n",
              "<style scoped>\n",
              "    .dataframe tbody tr th:only-of-type {\n",
              "        vertical-align: middle;\n",
              "    }\n",
              "\n",
              "    .dataframe tbody tr th {\n",
              "        vertical-align: top;\n",
              "    }\n",
              "\n",
              "    .dataframe thead th {\n",
              "        text-align: right;\n",
              "    }\n",
              "</style>\n",
              "<table border=\"1\" class=\"dataframe\">\n",
              "  <thead>\n",
              "    <tr style=\"text-align: right;\">\n",
              "      <th></th>\n",
              "      <th>Label</th>\n",
              "      <th>Tweet</th>\n",
              "    </tr>\n",
              "  </thead>\n",
              "  <tbody>\n",
              "    <tr>\n",
              "      <th>0</th>\n",
              "      <td>Non_HS</td>\n",
              "      <td>rt @spardaxyz: fadli zon minta mendagri segera...</td>\n",
              "    </tr>\n",
              "    <tr>\n",
              "      <th>1</th>\n",
              "      <td>Non_HS</td>\n",
              "      <td>rt @baguscondromowo: mereka terus melukai aksi...</td>\n",
              "    </tr>\n",
              "    <tr>\n",
              "      <th>2</th>\n",
              "      <td>Non_HS</td>\n",
              "      <td>sylvi: bagaimana gurbernur melakukan kekerasan...</td>\n",
              "    </tr>\n",
              "    <tr>\n",
              "      <th>3</th>\n",
              "      <td>Non_HS</td>\n",
              "      <td>ahmad dhani tak puas debat pilkada, masalah ja...</td>\n",
              "    </tr>\n",
              "    <tr>\n",
              "      <th>4</th>\n",
              "      <td>Non_HS</td>\n",
              "      <td>rt @lisdaulay28: waspada ktp palsu.....kawal p...</td>\n",
              "    </tr>\n",
              "  </tbody>\n",
              "</table>\n",
              "</div>"
            ],
            "text/plain": [
              "    Label                                              Tweet\n",
              "0  Non_HS  rt @spardaxyz: fadli zon minta mendagri segera...\n",
              "1  Non_HS  rt @baguscondromowo: mereka terus melukai aksi...\n",
              "2  Non_HS  sylvi: bagaimana gurbernur melakukan kekerasan...\n",
              "3  Non_HS  ahmad dhani tak puas debat pilkada, masalah ja...\n",
              "4  Non_HS  rt @lisdaulay28: waspada ktp palsu.....kawal p..."
            ]
          },
          "metadata": {
            "tags": []
          },
          "execution_count": 6
        }
      ]
    },
    {
      "cell_type": "markdown",
      "metadata": {
        "id": "e1eHsSQX0bbG"
      },
      "source": [
        "#### Data Cleaning"
      ]
    },
    {
      "cell_type": "code",
      "metadata": {
        "id": "8jpK5sgz0ei0"
      },
      "source": [
        "def clean(data):\n",
        "  tweets = []\n",
        "  for tweet in data:\n",
        "      tweet = re.sub(r\"(?:\\@|https?\\://)\\S+\", \"\", tweet)\n",
        "      tweet = re.sub(r\"http\\S+\", \"\", tweet)\n",
        "      tweet = re.sub('\\n', '', tweet)\n",
        "      tweet = re.sub('rt', '', tweet)\n",
        "      tweet = re.sub(\"[^a-zA-Z^']\", \" \", tweet)\n",
        "      tweet = re.sub(\" {2,}\", \" \", tweet)\n",
        "      tweet = tweet.strip()\n",
        "      tweets.append(tweet)\n",
        "  return tweets"
      ],
      "execution_count": 7,
      "outputs": []
    },
    {
      "cell_type": "code",
      "metadata": {
        "colab": {
          "base_uri": "https://localhost:8080/",
          "height": 0
        },
        "id": "L46eh-b_n00N",
        "outputId": "788ab4a5-d539-4f3c-d5fc-c92ff2973ca8"
      },
      "source": [
        "df_clean = df.copy()\n",
        "df_clean['Tweet']= clean(df['Tweet'])\n",
        "df_clean.head()"
      ],
      "execution_count": 8,
      "outputs": [
        {
          "output_type": "execute_result",
          "data": {
            "text/html": [
              "<div>\n",
              "<style scoped>\n",
              "    .dataframe tbody tr th:only-of-type {\n",
              "        vertical-align: middle;\n",
              "    }\n",
              "\n",
              "    .dataframe tbody tr th {\n",
              "        vertical-align: top;\n",
              "    }\n",
              "\n",
              "    .dataframe thead th {\n",
              "        text-align: right;\n",
              "    }\n",
              "</style>\n",
              "<table border=\"1\" class=\"dataframe\">\n",
              "  <thead>\n",
              "    <tr style=\"text-align: right;\">\n",
              "      <th></th>\n",
              "      <th>Label</th>\n",
              "      <th>Tweet</th>\n",
              "    </tr>\n",
              "  </thead>\n",
              "  <tbody>\n",
              "    <tr>\n",
              "      <th>0</th>\n",
              "      <td>Non_HS</td>\n",
              "      <td>fadli zon minta mendagri segera menonaktifkan ...</td>\n",
              "    </tr>\n",
              "    <tr>\n",
              "      <th>1</th>\n",
              "      <td>Non_HS</td>\n",
              "      <td>mereka terus melukai aksi dalam rangka memenja...</td>\n",
              "    </tr>\n",
              "    <tr>\n",
              "      <th>2</th>\n",
              "      <td>Non_HS</td>\n",
              "      <td>sylvi bagaimana gurbernur melakukan kekerasan ...</td>\n",
              "    </tr>\n",
              "    <tr>\n",
              "      <th>3</th>\n",
              "      <td>Non_HS</td>\n",
              "      <td>ahmad dhani tak puas debat pilkada masalah jal...</td>\n",
              "    </tr>\n",
              "    <tr>\n",
              "      <th>4</th>\n",
              "      <td>Non_HS</td>\n",
              "      <td>waspada ktp palsu kawal pilkada</td>\n",
              "    </tr>\n",
              "  </tbody>\n",
              "</table>\n",
              "</div>"
            ],
            "text/plain": [
              "    Label                                              Tweet\n",
              "0  Non_HS  fadli zon minta mendagri segera menonaktifkan ...\n",
              "1  Non_HS  mereka terus melukai aksi dalam rangka memenja...\n",
              "2  Non_HS  sylvi bagaimana gurbernur melakukan kekerasan ...\n",
              "3  Non_HS  ahmad dhani tak puas debat pilkada masalah jal...\n",
              "4  Non_HS                    waspada ktp palsu kawal pilkada"
            ]
          },
          "metadata": {
            "tags": []
          },
          "execution_count": 8
        }
      ]
    },
    {
      "cell_type": "markdown",
      "metadata": {
        "id": "_GCRrnL6yxNF"
      },
      "source": [
        "#### Tokenization\n"
      ]
    },
    {
      "cell_type": "code",
      "metadata": {
        "id": "sjzQrdVKoE79"
      },
      "source": [
        "def token(data):\n",
        "  return data.apply(nltk.word_tokenize)"
      ],
      "execution_count": 9,
      "outputs": []
    },
    {
      "cell_type": "code",
      "metadata": {
        "colab": {
          "base_uri": "https://localhost:8080/",
          "height": 0
        },
        "id": "zCXhQO9EwzF9",
        "outputId": "168a89e2-6ff6-486b-8281-8e501f89fe00"
      },
      "source": [
        "df_clean['Tweet'] = token(df_clean['Tweet'])\n",
        "df_clean.head()"
      ],
      "execution_count": 10,
      "outputs": [
        {
          "output_type": "execute_result",
          "data": {
            "text/html": [
              "<div>\n",
              "<style scoped>\n",
              "    .dataframe tbody tr th:only-of-type {\n",
              "        vertical-align: middle;\n",
              "    }\n",
              "\n",
              "    .dataframe tbody tr th {\n",
              "        vertical-align: top;\n",
              "    }\n",
              "\n",
              "    .dataframe thead th {\n",
              "        text-align: right;\n",
              "    }\n",
              "</style>\n",
              "<table border=\"1\" class=\"dataframe\">\n",
              "  <thead>\n",
              "    <tr style=\"text-align: right;\">\n",
              "      <th></th>\n",
              "      <th>Label</th>\n",
              "      <th>Tweet</th>\n",
              "    </tr>\n",
              "  </thead>\n",
              "  <tbody>\n",
              "    <tr>\n",
              "      <th>0</th>\n",
              "      <td>Non_HS</td>\n",
              "      <td>[fadli, zon, minta, mendagri, segera, menonakt...</td>\n",
              "    </tr>\n",
              "    <tr>\n",
              "      <th>1</th>\n",
              "      <td>Non_HS</td>\n",
              "      <td>[mereka, terus, melukai, aksi, dalam, rangka, ...</td>\n",
              "    </tr>\n",
              "    <tr>\n",
              "      <th>2</th>\n",
              "      <td>Non_HS</td>\n",
              "      <td>[sylvi, bagaimana, gurbernur, melakukan, keker...</td>\n",
              "    </tr>\n",
              "    <tr>\n",
              "      <th>3</th>\n",
              "      <td>Non_HS</td>\n",
              "      <td>[ahmad, dhani, tak, puas, debat, pilkada, masa...</td>\n",
              "    </tr>\n",
              "    <tr>\n",
              "      <th>4</th>\n",
              "      <td>Non_HS</td>\n",
              "      <td>[waspada, ktp, palsu, kawal, pilkada]</td>\n",
              "    </tr>\n",
              "  </tbody>\n",
              "</table>\n",
              "</div>"
            ],
            "text/plain": [
              "    Label                                              Tweet\n",
              "0  Non_HS  [fadli, zon, minta, mendagri, segera, menonakt...\n",
              "1  Non_HS  [mereka, terus, melukai, aksi, dalam, rangka, ...\n",
              "2  Non_HS  [sylvi, bagaimana, gurbernur, melakukan, keker...\n",
              "3  Non_HS  [ahmad, dhani, tak, puas, debat, pilkada, masa...\n",
              "4  Non_HS              [waspada, ktp, palsu, kawal, pilkada]"
            ]
          },
          "metadata": {
            "tags": []
          },
          "execution_count": 10
        }
      ]
    },
    {
      "cell_type": "markdown",
      "metadata": {
        "id": "8NgEsPaPy0fk"
      },
      "source": [
        "#### Stopword\n"
      ]
    },
    {
      "cell_type": "code",
      "metadata": {
        "id": "LfpCMxsPrTWL"
      },
      "source": [
        "def stop_words(data) :\n",
        "  stop_words = set(stopwords.words('indonesian'))\n",
        "  return data.apply(lambda x: [item for item in x if item not in stop_words])"
      ],
      "execution_count": 11,
      "outputs": []
    },
    {
      "cell_type": "code",
      "metadata": {
        "colab": {
          "base_uri": "https://localhost:8080/",
          "height": 0
        },
        "id": "98gyvnPTy4oD",
        "outputId": "aac31f6e-7ec5-4fce-866a-7a93c653cb41"
      },
      "source": [
        "df_clean[\"Tweet\"] = stop_words(df_clean['Tweet'])\n",
        "df_clean.head()"
      ],
      "execution_count": 12,
      "outputs": [
        {
          "output_type": "execute_result",
          "data": {
            "text/html": [
              "<div>\n",
              "<style scoped>\n",
              "    .dataframe tbody tr th:only-of-type {\n",
              "        vertical-align: middle;\n",
              "    }\n",
              "\n",
              "    .dataframe tbody tr th {\n",
              "        vertical-align: top;\n",
              "    }\n",
              "\n",
              "    .dataframe thead th {\n",
              "        text-align: right;\n",
              "    }\n",
              "</style>\n",
              "<table border=\"1\" class=\"dataframe\">\n",
              "  <thead>\n",
              "    <tr style=\"text-align: right;\">\n",
              "      <th></th>\n",
              "      <th>Label</th>\n",
              "      <th>Tweet</th>\n",
              "    </tr>\n",
              "  </thead>\n",
              "  <tbody>\n",
              "    <tr>\n",
              "      <th>0</th>\n",
              "      <td>Non_HS</td>\n",
              "      <td>[fadli, zon, mendagri, menonaktifkan, ahok, gu...</td>\n",
              "    </tr>\n",
              "    <tr>\n",
              "      <th>1</th>\n",
              "      <td>Non_HS</td>\n",
              "      <td>[melukai, aksi, rangka, memenjarakan, ahok, ah...</td>\n",
              "    </tr>\n",
              "    <tr>\n",
              "      <th>2</th>\n",
              "      <td>Non_HS</td>\n",
              "      <td>[sylvi, gurbernur, kekerasan, perempuan, bukti...</td>\n",
              "    </tr>\n",
              "    <tr>\n",
              "      <th>3</th>\n",
              "      <td>Non_HS</td>\n",
              "      <td>[ahmad, dhani, puas, debat, pilkada, jalan, be...</td>\n",
              "    </tr>\n",
              "    <tr>\n",
              "      <th>4</th>\n",
              "      <td>Non_HS</td>\n",
              "      <td>[waspada, ktp, palsu, kawal, pilkada]</td>\n",
              "    </tr>\n",
              "  </tbody>\n",
              "</table>\n",
              "</div>"
            ],
            "text/plain": [
              "    Label                                              Tweet\n",
              "0  Non_HS  [fadli, zon, mendagri, menonaktifkan, ahok, gu...\n",
              "1  Non_HS  [melukai, aksi, rangka, memenjarakan, ahok, ah...\n",
              "2  Non_HS  [sylvi, gurbernur, kekerasan, perempuan, bukti...\n",
              "3  Non_HS  [ahmad, dhani, puas, debat, pilkada, jalan, be...\n",
              "4  Non_HS              [waspada, ktp, palsu, kawal, pilkada]"
            ]
          },
          "metadata": {
            "tags": []
          },
          "execution_count": 12
        }
      ]
    },
    {
      "cell_type": "markdown",
      "metadata": {
        "id": "adKQpmsUy4yU"
      },
      "source": [
        "#### Stemming\n"
      ]
    },
    {
      "cell_type": "code",
      "metadata": {
        "id": "JFKWV1eSs1QB"
      },
      "source": [
        "def stem(data):\n",
        "  factory = StemmerFactory()\n",
        "  stemmer = factory.create_stemmer()\n",
        "  return data.apply(lambda x: [ stemmer.stem(item) for item in x])"
      ],
      "execution_count": 13,
      "outputs": []
    },
    {
      "cell_type": "code",
      "metadata": {
        "colab": {
          "base_uri": "https://localhost:8080/",
          "height": 0
        },
        "id": "QgI4BMFMy6go",
        "outputId": "9492df71-49cf-469d-9226-89cb05ed5846"
      },
      "source": [
        "df_clean[\"Tweet\"] = stem(df_clean[\"Tweet\"])\n",
        "df_clean.head()"
      ],
      "execution_count": 14,
      "outputs": [
        {
          "output_type": "execute_result",
          "data": {
            "text/html": [
              "<div>\n",
              "<style scoped>\n",
              "    .dataframe tbody tr th:only-of-type {\n",
              "        vertical-align: middle;\n",
              "    }\n",
              "\n",
              "    .dataframe tbody tr th {\n",
              "        vertical-align: top;\n",
              "    }\n",
              "\n",
              "    .dataframe thead th {\n",
              "        text-align: right;\n",
              "    }\n",
              "</style>\n",
              "<table border=\"1\" class=\"dataframe\">\n",
              "  <thead>\n",
              "    <tr style=\"text-align: right;\">\n",
              "      <th></th>\n",
              "      <th>Label</th>\n",
              "      <th>Tweet</th>\n",
              "    </tr>\n",
              "  </thead>\n",
              "  <tbody>\n",
              "    <tr>\n",
              "      <th>0</th>\n",
              "      <td>Non_HS</td>\n",
              "      <td>[fadli, zon, mendagri, nonaktif, ahok, gubernu...</td>\n",
              "    </tr>\n",
              "    <tr>\n",
              "      <th>1</th>\n",
              "      <td>Non_HS</td>\n",
              "      <td>[luka, aksi, rangka, penjara, ahok, ahok, gaga...</td>\n",
              "    </tr>\n",
              "    <tr>\n",
              "      <th>2</th>\n",
              "      <td>Non_HS</td>\n",
              "      <td>[sylvi, gurbernur, keras, perempuan, bukti, fo...</td>\n",
              "    </tr>\n",
              "    <tr>\n",
              "      <th>3</th>\n",
              "      <td>Non_HS</td>\n",
              "      <td>[ahmad, dhani, puas, debat, pilkada, jalan, be...</td>\n",
              "    </tr>\n",
              "    <tr>\n",
              "      <th>4</th>\n",
              "      <td>Non_HS</td>\n",
              "      <td>[waspada, ktp, palsu, kawal, pilkada]</td>\n",
              "    </tr>\n",
              "  </tbody>\n",
              "</table>\n",
              "</div>"
            ],
            "text/plain": [
              "    Label                                              Tweet\n",
              "0  Non_HS  [fadli, zon, mendagri, nonaktif, ahok, gubernu...\n",
              "1  Non_HS  [luka, aksi, rangka, penjara, ahok, ahok, gaga...\n",
              "2  Non_HS  [sylvi, gurbernur, keras, perempuan, bukti, fo...\n",
              "3  Non_HS  [ahmad, dhani, puas, debat, pilkada, jalan, be...\n",
              "4  Non_HS              [waspada, ktp, palsu, kawal, pilkada]"
            ]
          },
          "metadata": {
            "tags": []
          },
          "execution_count": 14
        }
      ]
    },
    {
      "cell_type": "code",
      "metadata": {
        "colab": {
          "base_uri": "https://localhost:8080/",
          "height": 0
        },
        "id": "Ewbq5bAIpek2",
        "outputId": "46046c88-737f-46e1-8469-0c9ac2757c04"
      },
      "source": [
        "df_clean['Tweet'] = df_clean[\"Tweet\"].apply(lambda x: \" \".join(x) if isinstance(x, list) else x)\n",
        "df_clean.head()"
      ],
      "execution_count": 15,
      "outputs": [
        {
          "output_type": "execute_result",
          "data": {
            "text/html": [
              "<div>\n",
              "<style scoped>\n",
              "    .dataframe tbody tr th:only-of-type {\n",
              "        vertical-align: middle;\n",
              "    }\n",
              "\n",
              "    .dataframe tbody tr th {\n",
              "        vertical-align: top;\n",
              "    }\n",
              "\n",
              "    .dataframe thead th {\n",
              "        text-align: right;\n",
              "    }\n",
              "</style>\n",
              "<table border=\"1\" class=\"dataframe\">\n",
              "  <thead>\n",
              "    <tr style=\"text-align: right;\">\n",
              "      <th></th>\n",
              "      <th>Label</th>\n",
              "      <th>Tweet</th>\n",
              "    </tr>\n",
              "  </thead>\n",
              "  <tbody>\n",
              "    <tr>\n",
              "      <th>0</th>\n",
              "      <td>Non_HS</td>\n",
              "      <td>fadli zon mendagri nonaktif ahok gubernur dki</td>\n",
              "    </tr>\n",
              "    <tr>\n",
              "      <th>1</th>\n",
              "      <td>Non_HS</td>\n",
              "      <td>luka aksi rangka penjara ahok ahok gagal pilkada</td>\n",
              "    </tr>\n",
              "    <tr>\n",
              "      <th>2</th>\n",
              "      <td>Non_HS</td>\n",
              "      <td>sylvi gurbernur keras perempuan bukti foto bar...</td>\n",
              "    </tr>\n",
              "    <tr>\n",
              "      <th>3</th>\n",
              "      <td>Non_HS</td>\n",
              "      <td>ahmad dhani puas debat pilkada jalan bekas ungkap</td>\n",
              "    </tr>\n",
              "    <tr>\n",
              "      <th>4</th>\n",
              "      <td>Non_HS</td>\n",
              "      <td>waspada ktp palsu kawal pilkada</td>\n",
              "    </tr>\n",
              "  </tbody>\n",
              "</table>\n",
              "</div>"
            ],
            "text/plain": [
              "    Label                                              Tweet\n",
              "0  Non_HS      fadli zon mendagri nonaktif ahok gubernur dki\n",
              "1  Non_HS   luka aksi rangka penjara ahok ahok gagal pilkada\n",
              "2  Non_HS  sylvi gurbernur keras perempuan bukti foto bar...\n",
              "3  Non_HS  ahmad dhani puas debat pilkada jalan bekas ungkap\n",
              "4  Non_HS                    waspada ktp palsu kawal pilkada"
            ]
          },
          "metadata": {
            "tags": []
          },
          "execution_count": 15
        }
      ]
    },
    {
      "cell_type": "code",
      "metadata": {
        "colab": {
          "base_uri": "https://localhost:8080/",
          "height": 0
        },
        "id": "dBm3BOkyto19",
        "outputId": "c3f8c5de-51bb-401e-8b90-44e0621438b0"
      },
      "source": [
        "df_clean['Tweet'][0]"
      ],
      "execution_count": 16,
      "outputs": [
        {
          "output_type": "execute_result",
          "data": {
            "application/vnd.google.colaboratory.intrinsic+json": {
              "type": "string"
            },
            "text/plain": [
              "'fadli zon mendagri nonaktif ahok gubernur dki'"
            ]
          },
          "metadata": {
            "tags": []
          },
          "execution_count": 16
        }
      ]
    },
    {
      "cell_type": "markdown",
      "metadata": {
        "id": "SQuScH-xzDh_"
      },
      "source": [
        "#### TF-IDF\n"
      ]
    },
    {
      "cell_type": "code",
      "metadata": {
        "id": "CR_qz-zvuvKR"
      },
      "source": [
        "def tf_idf(data):\n",
        "  vectorizer = TfidfVectorizer()\n",
        "  return vectorizer.fit_transform(data)\n"
      ],
      "execution_count": 17,
      "outputs": []
    },
    {
      "cell_type": "code",
      "metadata": {
        "id": "V8TzJSkjzGPh"
      },
      "source": [
        "x = tf_idf(df_clean['Tweet'])\n",
        "label = np.array(df_clean['Label'].values)"
      ],
      "execution_count": 18,
      "outputs": []
    },
    {
      "cell_type": "markdown",
      "metadata": {
        "id": "sD6oXyPqy7HW"
      },
      "source": [
        "#### SMOTE"
      ]
    },
    {
      "cell_type": "code",
      "metadata": {
        "colab": {
          "base_uri": "https://localhost:8080/"
        },
        "id": "mCmHMA9vy9qe",
        "outputId": "cfbb032f-d4f1-46d8-dc9b-2d736bea0310"
      },
      "source": [
        "sampler = SMOTE()\n",
        "x, label = sampler.fit_resample(x,label)"
      ],
      "execution_count": 19,
      "outputs": [
        {
          "output_type": "stream",
          "text": [
            "/usr/local/lib/python3.6/dist-packages/sklearn/utils/deprecation.py:87: FutureWarning:\n",
            "\n",
            "Function safe_indexing is deprecated; safe_indexing is deprecated in version 0.22 and will be removed in version 0.24.\n",
            "\n"
          ],
          "name": "stderr"
        }
      ]
    },
    {
      "cell_type": "code",
      "metadata": {
        "id": "Owr7fa3Hvswi"
      },
      "source": [
        "Label = pd.DataFrame(data=label, columns=['label'])"
      ],
      "execution_count": 20,
      "outputs": []
    },
    {
      "cell_type": "code",
      "metadata": {
        "colab": {
          "base_uri": "https://localhost:8080/",
          "height": 0
        },
        "id": "EYa19-5NvhXC",
        "outputId": "8f3b8edb-aeb6-4d77-fac2-de7f7d6cec18"
      },
      "source": [
        "count_label = Label['label'].value_counts().to_frame()\n",
        "px.bar(data_frame=count_label, x=count_label.index , y='label')"
      ],
      "execution_count": 21,
      "outputs": [
        {
          "output_type": "display_data",
          "data": {
            "text/html": [
              "<html>\n",
              "<head><meta charset=\"utf-8\" /></head>\n",
              "<body>\n",
              "    <div>\n",
              "            <script src=\"https://cdnjs.cloudflare.com/ajax/libs/mathjax/2.7.5/MathJax.js?config=TeX-AMS-MML_SVG\"></script><script type=\"text/javascript\">if (window.MathJax) {MathJax.Hub.Config({SVG: {font: \"STIX-Web\"}});}</script>\n",
              "                <script type=\"text/javascript\">window.PlotlyConfig = {MathJaxConfig: 'local'};</script>\n",
              "        <script src=\"https://cdn.plot.ly/plotly-latest.min.js\"></script>    \n",
              "            <div id=\"b3f8d178-acc4-46c4-bfa6-5849672e77d1\" class=\"plotly-graph-div\" style=\"height:525px; width:100%;\"></div>\n",
              "            <script type=\"text/javascript\">\n",
              "                \n",
              "                    window.PLOTLYENV=window.PLOTLYENV || {};\n",
              "                    \n",
              "                if (document.getElementById(\"b3f8d178-acc4-46c4-bfa6-5849672e77d1\")) {\n",
              "                    Plotly.newPlot(\n",
              "                        'b3f8d178-acc4-46c4-bfa6-5849672e77d1',\n",
              "                        [{\"alignmentgroup\": \"True\", \"hoverlabel\": {\"namelength\": 0}, \"hovertemplate\": \"x=%{x}<br>label=%{y}\", \"legendgroup\": \"\", \"marker\": {\"color\": \"#636efa\"}, \"name\": \"\", \"offsetgroup\": \"\", \"orientation\": \"v\", \"showlegend\": false, \"textposition\": \"auto\", \"type\": \"bar\", \"x\": [\"HS\", \"Non_HS\"], \"xaxis\": \"x\", \"y\": [453, 453], \"yaxis\": \"y\"}],\n",
              "                        {\"barmode\": \"relative\", \"legend\": {\"tracegroupgap\": 0}, \"margin\": {\"t\": 60}, \"template\": {\"data\": {\"bar\": [{\"error_x\": {\"color\": \"#2a3f5f\"}, \"error_y\": {\"color\": \"#2a3f5f\"}, \"marker\": {\"line\": {\"color\": \"#E5ECF6\", \"width\": 0.5}}, \"type\": \"bar\"}], \"barpolar\": [{\"marker\": {\"line\": {\"color\": \"#E5ECF6\", \"width\": 0.5}}, \"type\": \"barpolar\"}], \"carpet\": [{\"aaxis\": {\"endlinecolor\": \"#2a3f5f\", \"gridcolor\": \"white\", \"linecolor\": \"white\", \"minorgridcolor\": \"white\", \"startlinecolor\": \"#2a3f5f\"}, \"baxis\": {\"endlinecolor\": \"#2a3f5f\", \"gridcolor\": \"white\", \"linecolor\": \"white\", \"minorgridcolor\": \"white\", \"startlinecolor\": \"#2a3f5f\"}, \"type\": \"carpet\"}], \"choropleth\": [{\"colorbar\": {\"outlinewidth\": 0, \"ticks\": \"\"}, \"type\": \"choropleth\"}], \"contour\": [{\"colorbar\": {\"outlinewidth\": 0, \"ticks\": \"\"}, \"colorscale\": [[0.0, \"#0d0887\"], [0.1111111111111111, \"#46039f\"], [0.2222222222222222, \"#7201a8\"], [0.3333333333333333, \"#9c179e\"], [0.4444444444444444, \"#bd3786\"], [0.5555555555555556, \"#d8576b\"], [0.6666666666666666, \"#ed7953\"], [0.7777777777777778, \"#fb9f3a\"], [0.8888888888888888, \"#fdca26\"], [1.0, \"#f0f921\"]], \"type\": \"contour\"}], \"contourcarpet\": [{\"colorbar\": {\"outlinewidth\": 0, \"ticks\": \"\"}, \"type\": \"contourcarpet\"}], \"heatmap\": [{\"colorbar\": {\"outlinewidth\": 0, \"ticks\": \"\"}, \"colorscale\": [[0.0, \"#0d0887\"], [0.1111111111111111, \"#46039f\"], [0.2222222222222222, \"#7201a8\"], [0.3333333333333333, \"#9c179e\"], [0.4444444444444444, \"#bd3786\"], [0.5555555555555556, \"#d8576b\"], [0.6666666666666666, \"#ed7953\"], [0.7777777777777778, \"#fb9f3a\"], [0.8888888888888888, \"#fdca26\"], [1.0, \"#f0f921\"]], \"type\": \"heatmap\"}], \"heatmapgl\": [{\"colorbar\": {\"outlinewidth\": 0, \"ticks\": \"\"}, \"colorscale\": [[0.0, \"#0d0887\"], [0.1111111111111111, \"#46039f\"], [0.2222222222222222, \"#7201a8\"], [0.3333333333333333, \"#9c179e\"], [0.4444444444444444, \"#bd3786\"], [0.5555555555555556, \"#d8576b\"], [0.6666666666666666, \"#ed7953\"], [0.7777777777777778, \"#fb9f3a\"], [0.8888888888888888, \"#fdca26\"], [1.0, \"#f0f921\"]], \"type\": \"heatmapgl\"}], \"histogram\": [{\"marker\": {\"colorbar\": {\"outlinewidth\": 0, \"ticks\": \"\"}}, \"type\": \"histogram\"}], \"histogram2d\": [{\"colorbar\": {\"outlinewidth\": 0, \"ticks\": \"\"}, \"colorscale\": [[0.0, \"#0d0887\"], [0.1111111111111111, \"#46039f\"], [0.2222222222222222, \"#7201a8\"], [0.3333333333333333, \"#9c179e\"], [0.4444444444444444, \"#bd3786\"], [0.5555555555555556, \"#d8576b\"], [0.6666666666666666, \"#ed7953\"], [0.7777777777777778, \"#fb9f3a\"], [0.8888888888888888, \"#fdca26\"], [1.0, \"#f0f921\"]], \"type\": \"histogram2d\"}], \"histogram2dcontour\": [{\"colorbar\": {\"outlinewidth\": 0, \"ticks\": \"\"}, \"colorscale\": [[0.0, \"#0d0887\"], [0.1111111111111111, \"#46039f\"], [0.2222222222222222, \"#7201a8\"], [0.3333333333333333, \"#9c179e\"], [0.4444444444444444, \"#bd3786\"], [0.5555555555555556, \"#d8576b\"], [0.6666666666666666, \"#ed7953\"], [0.7777777777777778, \"#fb9f3a\"], [0.8888888888888888, \"#fdca26\"], [1.0, \"#f0f921\"]], \"type\": \"histogram2dcontour\"}], \"mesh3d\": [{\"colorbar\": {\"outlinewidth\": 0, \"ticks\": \"\"}, \"type\": \"mesh3d\"}], \"parcoords\": [{\"line\": {\"colorbar\": {\"outlinewidth\": 0, \"ticks\": \"\"}}, \"type\": \"parcoords\"}], \"pie\": [{\"automargin\": true, \"type\": \"pie\"}], \"scatter\": [{\"marker\": {\"colorbar\": {\"outlinewidth\": 0, \"ticks\": \"\"}}, \"type\": \"scatter\"}], \"scatter3d\": [{\"line\": {\"colorbar\": {\"outlinewidth\": 0, \"ticks\": \"\"}}, \"marker\": {\"colorbar\": {\"outlinewidth\": 0, \"ticks\": \"\"}}, \"type\": \"scatter3d\"}], \"scattercarpet\": [{\"marker\": {\"colorbar\": {\"outlinewidth\": 0, \"ticks\": \"\"}}, \"type\": \"scattercarpet\"}], \"scattergeo\": [{\"marker\": {\"colorbar\": {\"outlinewidth\": 0, \"ticks\": \"\"}}, \"type\": \"scattergeo\"}], \"scattergl\": [{\"marker\": {\"colorbar\": {\"outlinewidth\": 0, \"ticks\": \"\"}}, \"type\": \"scattergl\"}], \"scattermapbox\": [{\"marker\": {\"colorbar\": {\"outlinewidth\": 0, \"ticks\": \"\"}}, \"type\": \"scattermapbox\"}], \"scatterpolar\": [{\"marker\": {\"colorbar\": {\"outlinewidth\": 0, \"ticks\": \"\"}}, \"type\": \"scatterpolar\"}], \"scatterpolargl\": [{\"marker\": {\"colorbar\": {\"outlinewidth\": 0, \"ticks\": \"\"}}, \"type\": \"scatterpolargl\"}], \"scatterternary\": [{\"marker\": {\"colorbar\": {\"outlinewidth\": 0, \"ticks\": \"\"}}, \"type\": \"scatterternary\"}], \"surface\": [{\"colorbar\": {\"outlinewidth\": 0, \"ticks\": \"\"}, \"colorscale\": [[0.0, \"#0d0887\"], [0.1111111111111111, \"#46039f\"], [0.2222222222222222, \"#7201a8\"], [0.3333333333333333, \"#9c179e\"], [0.4444444444444444, \"#bd3786\"], [0.5555555555555556, \"#d8576b\"], [0.6666666666666666, \"#ed7953\"], [0.7777777777777778, \"#fb9f3a\"], [0.8888888888888888, \"#fdca26\"], [1.0, \"#f0f921\"]], \"type\": \"surface\"}], \"table\": [{\"cells\": {\"fill\": {\"color\": \"#EBF0F8\"}, \"line\": {\"color\": \"white\"}}, \"header\": {\"fill\": {\"color\": \"#C8D4E3\"}, \"line\": {\"color\": \"white\"}}, \"type\": \"table\"}]}, \"layout\": {\"annotationdefaults\": {\"arrowcolor\": \"#2a3f5f\", \"arrowhead\": 0, \"arrowwidth\": 1}, \"coloraxis\": {\"colorbar\": {\"outlinewidth\": 0, \"ticks\": \"\"}}, \"colorscale\": {\"diverging\": [[0, \"#8e0152\"], [0.1, \"#c51b7d\"], [0.2, \"#de77ae\"], [0.3, \"#f1b6da\"], [0.4, \"#fde0ef\"], [0.5, \"#f7f7f7\"], [0.6, \"#e6f5d0\"], [0.7, \"#b8e186\"], [0.8, \"#7fbc41\"], [0.9, \"#4d9221\"], [1, \"#276419\"]], \"sequential\": [[0.0, \"#0d0887\"], [0.1111111111111111, \"#46039f\"], [0.2222222222222222, \"#7201a8\"], [0.3333333333333333, \"#9c179e\"], [0.4444444444444444, \"#bd3786\"], [0.5555555555555556, \"#d8576b\"], [0.6666666666666666, \"#ed7953\"], [0.7777777777777778, \"#fb9f3a\"], [0.8888888888888888, \"#fdca26\"], [1.0, \"#f0f921\"]], \"sequentialminus\": [[0.0, \"#0d0887\"], [0.1111111111111111, \"#46039f\"], [0.2222222222222222, \"#7201a8\"], [0.3333333333333333, \"#9c179e\"], [0.4444444444444444, \"#bd3786\"], [0.5555555555555556, \"#d8576b\"], [0.6666666666666666, \"#ed7953\"], [0.7777777777777778, \"#fb9f3a\"], [0.8888888888888888, \"#fdca26\"], [1.0, \"#f0f921\"]]}, \"colorway\": [\"#636efa\", \"#EF553B\", \"#00cc96\", \"#ab63fa\", \"#FFA15A\", \"#19d3f3\", \"#FF6692\", \"#B6E880\", \"#FF97FF\", \"#FECB52\"], \"font\": {\"color\": \"#2a3f5f\"}, \"geo\": {\"bgcolor\": \"white\", \"lakecolor\": \"white\", \"landcolor\": \"#E5ECF6\", \"showlakes\": true, \"showland\": true, \"subunitcolor\": \"white\"}, \"hoverlabel\": {\"align\": \"left\"}, \"hovermode\": \"closest\", \"mapbox\": {\"style\": \"light\"}, \"paper_bgcolor\": \"white\", \"plot_bgcolor\": \"#E5ECF6\", \"polar\": {\"angularaxis\": {\"gridcolor\": \"white\", \"linecolor\": \"white\", \"ticks\": \"\"}, \"bgcolor\": \"#E5ECF6\", \"radialaxis\": {\"gridcolor\": \"white\", \"linecolor\": \"white\", \"ticks\": \"\"}}, \"scene\": {\"xaxis\": {\"backgroundcolor\": \"#E5ECF6\", \"gridcolor\": \"white\", \"gridwidth\": 2, \"linecolor\": \"white\", \"showbackground\": true, \"ticks\": \"\", \"zerolinecolor\": \"white\"}, \"yaxis\": {\"backgroundcolor\": \"#E5ECF6\", \"gridcolor\": \"white\", \"gridwidth\": 2, \"linecolor\": \"white\", \"showbackground\": true, \"ticks\": \"\", \"zerolinecolor\": \"white\"}, \"zaxis\": {\"backgroundcolor\": \"#E5ECF6\", \"gridcolor\": \"white\", \"gridwidth\": 2, \"linecolor\": \"white\", \"showbackground\": true, \"ticks\": \"\", \"zerolinecolor\": \"white\"}}, \"shapedefaults\": {\"line\": {\"color\": \"#2a3f5f\"}}, \"ternary\": {\"aaxis\": {\"gridcolor\": \"white\", \"linecolor\": \"white\", \"ticks\": \"\"}, \"baxis\": {\"gridcolor\": \"white\", \"linecolor\": \"white\", \"ticks\": \"\"}, \"bgcolor\": \"#E5ECF6\", \"caxis\": {\"gridcolor\": \"white\", \"linecolor\": \"white\", \"ticks\": \"\"}}, \"title\": {\"x\": 0.05}, \"xaxis\": {\"automargin\": true, \"gridcolor\": \"white\", \"linecolor\": \"white\", \"ticks\": \"\", \"title\": {\"standoff\": 15}, \"zerolinecolor\": \"white\", \"zerolinewidth\": 2}, \"yaxis\": {\"automargin\": true, \"gridcolor\": \"white\", \"linecolor\": \"white\", \"ticks\": \"\", \"title\": {\"standoff\": 15}, \"zerolinecolor\": \"white\", \"zerolinewidth\": 2}}}, \"xaxis\": {\"anchor\": \"y\", \"domain\": [0.0, 1.0], \"title\": {\"text\": \"x\"}}, \"yaxis\": {\"anchor\": \"x\", \"domain\": [0.0, 1.0], \"title\": {\"text\": \"label\"}}},\n",
              "                        {\"responsive\": true}\n",
              "                    ).then(function(){\n",
              "                            \n",
              "var gd = document.getElementById('b3f8d178-acc4-46c4-bfa6-5849672e77d1');\n",
              "var x = new MutationObserver(function (mutations, observer) {{\n",
              "        var display = window.getComputedStyle(gd).display;\n",
              "        if (!display || display === 'none') {{\n",
              "            console.log([gd, 'removed!']);\n",
              "            Plotly.purge(gd);\n",
              "            observer.disconnect();\n",
              "        }}\n",
              "}});\n",
              "\n",
              "// Listen for the removal of the full notebook cells\n",
              "var notebookContainer = gd.closest('#notebook-container');\n",
              "if (notebookContainer) {{\n",
              "    x.observe(notebookContainer, {childList: true});\n",
              "}}\n",
              "\n",
              "// Listen for the clearing of the current output cell\n",
              "var outputEl = gd.closest('.output');\n",
              "if (outputEl) {{\n",
              "    x.observe(outputEl, {childList: true});\n",
              "}}\n",
              "\n",
              "                        })\n",
              "                };\n",
              "                \n",
              "            </script>\n",
              "        </div>\n",
              "</body>\n",
              "</html>"
            ]
          },
          "metadata": {
            "tags": []
          }
        }
      ]
    },
    {
      "cell_type": "markdown",
      "metadata": {
        "id": "CusfZQ-SkIVn"
      },
      "source": [
        "####Split Train-Test"
      ]
    },
    {
      "cell_type": "code",
      "metadata": {
        "colab": {
          "base_uri": "https://localhost:8080/"
        },
        "id": "e0oU9p3BkLmz",
        "outputId": "6d2d5f57-4886-4dea-acc2-3ee38d8563d2"
      },
      "source": [
        "X_train, X_test, y_train, y_test = train_test_split(x, label, test_size=0.25, random_state=1)\n",
        "print(X_train.shape)\n",
        "print(X_test.shape)\n",
        "print(y_train.shape)\n",
        "print(y_test.shape)"
      ],
      "execution_count": 61,
      "outputs": [
        {
          "output_type": "stream",
          "text": [
            "(679, 2129)\n",
            "(227, 2129)\n",
            "(679,)\n",
            "(227,)\n"
          ],
          "name": "stdout"
        }
      ]
    },
    {
      "cell_type": "code",
      "metadata": {
        "colab": {
          "base_uri": "https://localhost:8080/"
        },
        "id": "0ZC8FXpl6SZ1",
        "outputId": "11839143-2ad0-4c58-a491-0ae5a6919de8"
      },
      "source": [
        "lb_make = LabelEncoder()\n",
        "y_train = lb_make.fit_transform(y_train)\n",
        "print(y_train.shape)"
      ],
      "execution_count": 62,
      "outputs": [
        {
          "output_type": "stream",
          "text": [
            "(679,)\n"
          ],
          "name": "stdout"
        }
      ]
    },
    {
      "cell_type": "code",
      "metadata": {
        "colab": {
          "base_uri": "https://localhost:8080/"
        },
        "id": "rWyFM8ha6Uj5",
        "outputId": "dbe93e6f-1364-402a-a349-8049f84a49ff"
      },
      "source": [
        "y_test = lb_make.fit_transform(y_test)\n",
        "print(y_test.shape)"
      ],
      "execution_count": 63,
      "outputs": [
        {
          "output_type": "stream",
          "text": [
            "(227,)\n"
          ],
          "name": "stdout"
        }
      ]
    },
    {
      "cell_type": "markdown",
      "metadata": {
        "id": "jNmAeJ27zGtb"
      },
      "source": [
        "### **Classification**\n"
      ]
    },
    {
      "cell_type": "markdown",
      "metadata": {
        "id": "6eNr66sezKsy"
      },
      "source": [
        "#### **Naive Bayes**\n"
      ]
    },
    {
      "cell_type": "markdown",
      "metadata": {
        "id": "FMbVGdRuWjki"
      },
      "source": [
        "##### **Train**"
      ]
    },
    {
      "cell_type": "code",
      "metadata": {
        "id": "XHPDQPsiWjkk",
        "colab": {
          "base_uri": "https://localhost:8080/"
        },
        "outputId": "9de21cb1-3ba4-45e0-f41e-f191c801f04c"
      },
      "source": [
        "# Modeling Naive Bayes Classifier\n",
        "gnb = GaussianNB()\n",
        "gnb.fit(X_train.toarray(), y_train)"
      ],
      "execution_count": 65,
      "outputs": [
        {
          "output_type": "execute_result",
          "data": {
            "text/plain": [
              "GaussianNB(priors=None, var_smoothing=1e-09)"
            ]
          },
          "metadata": {
            "tags": []
          },
          "execution_count": 65
        }
      ]
    },
    {
      "cell_type": "markdown",
      "metadata": {
        "id": "bWMoiIalWjlI"
      },
      "source": [
        "##### **Test**"
      ]
    },
    {
      "cell_type": "code",
      "metadata": {
        "id": "UZW7gWXiWjlI"
      },
      "source": [
        "y_pred_nb= gnb.predict(X_test.toarray())\n",
        "# y_pred_nb"
      ],
      "execution_count": 66,
      "outputs": []
    },
    {
      "cell_type": "markdown",
      "metadata": {
        "id": "HxRTsho7WjlO"
      },
      "source": [
        "##### **Evaluation**"
      ]
    },
    {
      "cell_type": "code",
      "metadata": {
        "id": "wGR9VRl6WjlP",
        "colab": {
          "base_uri": "https://localhost:8080/",
          "height": 334
        },
        "outputId": "4cb5e4de-4366-43dc-aa79-db33409bfb64"
      },
      "source": [
        "#Show the Confussion Matrix\n",
        "cm1 = metrics.confusion_matrix(y_test, y_pred_nb)\n",
        "plot_confusion_matrix(cm1, figsize=(5,5))\n",
        "plt.show()"
      ],
      "execution_count": 67,
      "outputs": [
        {
          "output_type": "display_data",
          "data": {
            "image/png": "[encoded data removed]",
            "text/plain": [
              "<Figure size 360x360 with 1 Axes>"
            ]
          },
          "metadata": {
            "tags": [],
            "needs_background": "light"
          }
        }
      ]
    },
    {
      "cell_type": "code",
      "metadata": {
        "id": "WVYGVgJSWjlX",
        "colab": {
          "base_uri": "https://localhost:8080/"
        },
        "outputId": "01cc9160-91d4-4a4b-f575-6381e2466711"
      },
      "source": [
        "print(classification_report(y_test, y_pred_nb))"
      ],
      "execution_count": 68,
      "outputs": [
        {
          "output_type": "stream",
          "text": [
            "              precision    recall  f1-score   support\n",
            "\n",
            "           0       0.75      0.96      0.84       122\n",
            "           1       0.93      0.63      0.75       105\n",
            "\n",
            "    accuracy                           0.81       227\n",
            "   macro avg       0.84      0.79      0.80       227\n",
            "weighted avg       0.83      0.81      0.80       227\n",
            "\n"
          ],
          "name": "stdout"
        }
      ]
    },
    {
      "cell_type": "markdown",
      "metadata": {
        "id": "PRCIEUH7ysqT"
      },
      "source": [
        "#### **SVM**\n"
      ]
    },
    {
      "cell_type": "markdown",
      "metadata": {
        "id": "RaLX81nPysqU"
      },
      "source": [
        "##### **Train**"
      ]
    },
    {
      "cell_type": "code",
      "metadata": {
        "colab": {
          "base_uri": "https://localhost:8080/"
        },
        "id": "GQz_grNXysqU",
        "outputId": "e9054048-1c31-430c-b089-e00baa53009d"
      },
      "source": [
        "svm = SVC(kernel='rbf', probability=True)\n",
        "svm.fit(X_train.toarray(), y_train)"
      ],
      "execution_count": 97,
      "outputs": [
        {
          "output_type": "execute_result",
          "data": {
            "text/plain": [
              "SVC(C=1.0, break_ties=False, cache_size=200, class_weight=None, coef0=0.0,\n",
              "    decision_function_shape='ovr', degree=3, gamma='scale', kernel='rbf',\n",
              "    max_iter=-1, probability=True, random_state=None, shrinking=True, tol=0.001,\n",
              "    verbose=False)"
            ]
          },
          "metadata": {
            "tags": []
          },
          "execution_count": 97
        }
      ]
    },
    {
      "cell_type": "markdown",
      "metadata": {
        "id": "x9ncqWEqysqb"
      },
      "source": [
        "##### **Test**"
      ]
    },
    {
      "cell_type": "code",
      "metadata": {
        "id": "Z-KFQfMVysqc"
      },
      "source": [
        "y_pred_svm = svm.predict(X_test.toarray())\n",
        "# y_pred_svm"
      ],
      "execution_count": 98,
      "outputs": []
    },
    {
      "cell_type": "markdown",
      "metadata": {
        "id": "m5Hj4kx8ysqc"
      },
      "source": [
        "##### **Evaluation**"
      ]
    },
    {
      "cell_type": "code",
      "metadata": {
        "colab": {
          "base_uri": "https://localhost:8080/",
          "height": 0
        },
        "id": "ZCWy2wmAysqc",
        "outputId": "2efa397d-4602-45a0-d22e-057ff6f5dc12"
      },
      "source": [
        "#Show the Confussion Matrix\n",
        "cm1 = metrics.confusion_matrix(y_test, y_pred_svm)\n",
        "plot_confusion_matrix(cm1, figsize=(5,5))\n",
        "plt.show()"
      ],
      "execution_count": 99,
      "outputs": [
        {
          "output_type": "display_data",
          "data": {
            "image/png": "[encoded data removed]",
            "text/plain": [
              "<Figure size 360x360 with 1 Axes>"
            ]
          },
          "metadata": {
            "tags": [],
            "needs_background": "light"
          }
        }
      ]
    },
    {
      "cell_type": "code",
      "metadata": {
        "colab": {
          "base_uri": "https://localhost:8080/"
        },
        "id": "rYn5J4l7ysqd",
        "outputId": "7cda0473-2131-4977-8a6e-449b0983fa06"
      },
      "source": [
        "print(classification_report(y_test, y_pred_svm))"
      ],
      "execution_count": 100,
      "outputs": [
        {
          "output_type": "stream",
          "text": [
            "              precision    recall  f1-score   support\n",
            "\n",
            "           0       0.97      0.84      0.90       122\n",
            "           1       0.84      0.97      0.90       105\n",
            "\n",
            "    accuracy                           0.90       227\n",
            "   macro avg       0.90      0.90      0.90       227\n",
            "weighted avg       0.91      0.90      0.90       227\n",
            "\n"
          ],
          "name": "stdout"
        }
      ]
    },
    {
      "cell_type": "code",
      "metadata": {
        "id": "ORCdvM2uzOCC"
      },
      "source": [
        ""
      ],
      "execution_count": 100,
      "outputs": []
    },
    {
      "cell_type": "markdown",
      "metadata": {
        "id": "EsmWZtQczTOv"
      },
      "source": [
        "#### **ANN**\n"
      ]
    },
    {
      "cell_type": "markdown",
      "metadata": {
        "id": "FsoWNzJtzTOv"
      },
      "source": [
        "##### **Train**"
      ]
    },
    {
      "cell_type": "code",
      "metadata": {
        "colab": {
          "base_uri": "https://localhost:8080/"
        },
        "id": "NF9M5OdxzTOv",
        "outputId": "5a39b725-410e-4149-9d06-d39bd23dd6a8"
      },
      "source": [
        "mlp = MLPClassifier(random_state=1, max_iter=300)\n",
        "mlp.fit(X_train.toarray(), y_train)"
      ],
      "execution_count": 73,
      "outputs": [
        {
          "output_type": "execute_result",
          "data": {
            "text/plain": [
              "MLPClassifier(activation='relu', alpha=0.0001, batch_size='auto', beta_1=0.9,\n",
              "              beta_2=0.999, early_stopping=False, epsilon=1e-08,\n",
              "              hidden_layer_sizes=(100,), learning_rate='constant',\n",
              "              learning_rate_init=0.001, max_fun=15000, max_iter=300,\n",
              "              momentum=0.9, n_iter_no_change=10, nesterovs_momentum=True,\n",
              "              power_t=0.5, random_state=1, shuffle=True, solver='adam',\n",
              "              tol=0.0001, validation_fraction=0.1, verbose=False,\n",
              "              warm_start=False)"
            ]
          },
          "metadata": {
            "tags": []
          },
          "execution_count": 73
        }
      ]
    },
    {
      "cell_type": "markdown",
      "metadata": {
        "id": "N1u6FimAzTOw"
      },
      "source": [
        "##### **Test**"
      ]
    },
    {
      "cell_type": "code",
      "metadata": {
        "id": "0N__hbQczTOw"
      },
      "source": [
        "y_pred_ann = mlp.predict(X_test.toarray())\n",
        "# y_pred_ann"
      ],
      "execution_count": 74,
      "outputs": []
    },
    {
      "cell_type": "markdown",
      "metadata": {
        "id": "NOxTp_jlzTOx"
      },
      "source": [
        "##### **Evaluation**"
      ]
    },
    {
      "cell_type": "code",
      "metadata": {
        "colab": {
          "base_uri": "https://localhost:8080/",
          "height": 334
        },
        "id": "wBIdMPUdzTOx",
        "outputId": "ec1c455a-dcb8-41a6-9be0-1adb4f56b8a1"
      },
      "source": [
        "#Show the Confussion Matrix\n",
        "cm1 = metrics.confusion_matrix(y_test, y_pred_ann)\n",
        "plot_confusion_matrix(cm1, figsize=(5,5))\n",
        "plt.show()"
      ],
      "execution_count": 75,
      "outputs": [
        {
          "output_type": "display_data",
          "data": {
            "image/png": "[encoded data removed]",
            "text/plain": [
              "<Figure size 360x360 with 1 Axes>"
            ]
          },
          "metadata": {
            "tags": [],
            "needs_background": "light"
          }
        }
      ]
    },
    {
      "cell_type": "code",
      "metadata": {
        "colab": {
          "base_uri": "https://localhost:8080/"
        },
        "id": "1t9XVIszzTOx",
        "outputId": "661b054a-f9e2-4469-fc86-79a5be042625"
      },
      "source": [
        "print(classification_report(y_test, y_pred_ann))"
      ],
      "execution_count": 76,
      "outputs": [
        {
          "output_type": "stream",
          "text": [
            "              precision    recall  f1-score   support\n",
            "\n",
            "           0       0.90      0.93      0.91       122\n",
            "           1       0.91      0.88      0.89       105\n",
            "\n",
            "    accuracy                           0.90       227\n",
            "   macro avg       0.90      0.90      0.90       227\n",
            "weighted avg       0.90      0.90      0.90       227\n",
            "\n"
          ],
          "name": "stdout"
        }
      ]
    },
    {
      "cell_type": "code",
      "metadata": {
        "id": "bav63VaKzTOy"
      },
      "source": [
        ""
      ],
      "execution_count": 76,
      "outputs": []
    },
    {
      "cell_type": "markdown",
      "metadata": {
        "id": "CcztlRv00cQR"
      },
      "source": [
        "#### **KNN**\n"
      ]
    },
    {
      "cell_type": "markdown",
      "metadata": {
        "id": "eKCmy2OA0cQR"
      },
      "source": [
        "##### **Train**"
      ]
    },
    {
      "cell_type": "code",
      "metadata": {
        "colab": {
          "base_uri": "https://localhost:8080/"
        },
        "id": "MHS9Fa0t0cQR",
        "outputId": "8af747b3-23dc-410d-ddac-a6772d4093f4"
      },
      "source": [
        "knn = KNeighborsClassifier(n_neighbors=5)\n",
        "knn.fit(X_train.toarray(), y_train)"
      ],
      "execution_count": 77,
      "outputs": [
        {
          "output_type": "execute_result",
          "data": {
            "text/plain": [
              "KNeighborsClassifier(algorithm='auto', leaf_size=30, metric='minkowski',\n",
              "                     metric_params=None, n_jobs=None, n_neighbors=5, p=2,\n",
              "                     weights='uniform')"
            ]
          },
          "metadata": {
            "tags": []
          },
          "execution_count": 77
        }
      ]
    },
    {
      "cell_type": "markdown",
      "metadata": {
        "id": "BKzUtn_U0cQS"
      },
      "source": [
        "##### **Test**"
      ]
    },
    {
      "cell_type": "code",
      "metadata": {
        "id": "T_09sAcR0cQS"
      },
      "source": [
        "y_pred_knn = knn.predict(X_test.toarray())\n",
        "# y_pred_knn"
      ],
      "execution_count": 78,
      "outputs": []
    },
    {
      "cell_type": "markdown",
      "metadata": {
        "id": "J-J1Uirr0cQS"
      },
      "source": [
        "##### **Evaluation**"
      ]
    },
    {
      "cell_type": "code",
      "metadata": {
        "colab": {
          "base_uri": "https://localhost:8080/",
          "height": 334
        },
        "id": "t-1oIbR60cQS",
        "outputId": "6dc899a0-62c6-424c-bf75-81508a96429a"
      },
      "source": [
        "#Show the Confussion Matrix\n",
        "cm1 = metrics.confusion_matrix(y_test, y_pred_knn)\n",
        "plot_confusion_matrix(cm1, figsize=(5,5))\n",
        "plt.show()"
      ],
      "execution_count": 79,
      "outputs": [
        {
          "output_type": "display_data",
          "data": {
            "image/png": "[encoded data removed]",
            "text/plain": [
              "<Figure size 360x360 with 1 Axes>"
            ]
          },
          "metadata": {
            "tags": [],
            "needs_background": "light"
          }
        }
      ]
    },
    {
      "cell_type": "code",
      "metadata": {
        "colab": {
          "base_uri": "https://localhost:8080/"
        },
        "id": "nRgy3dhN0cQS",
        "outputId": "e03b22ce-f601-4b79-b791-9136668fdb16"
      },
      "source": [
        "print(classification_report(y_test, y_pred_knn))"
      ],
      "execution_count": 80,
      "outputs": [
        {
          "output_type": "stream",
          "text": [
            "              precision    recall  f1-score   support\n",
            "\n",
            "           0       0.59      1.00      0.74       122\n",
            "           1       1.00      0.18      0.31       105\n",
            "\n",
            "    accuracy                           0.62       227\n",
            "   macro avg       0.79      0.59      0.52       227\n",
            "weighted avg       0.78      0.62      0.54       227\n",
            "\n"
          ],
          "name": "stdout"
        }
      ]
    },
    {
      "cell_type": "code",
      "metadata": {
        "id": "iDmFhqe30cQS"
      },
      "source": [
        ""
      ],
      "execution_count": 80,
      "outputs": []
    },
    {
      "cell_type": "markdown",
      "metadata": {
        "id": "fScNzejE0u_W"
      },
      "source": [
        "#### **Random Forest**\n"
      ]
    },
    {
      "cell_type": "markdown",
      "metadata": {
        "id": "pvmZ1RiX0u_W"
      },
      "source": [
        "##### **Train**"
      ]
    },
    {
      "cell_type": "code",
      "metadata": {
        "colab": {
          "base_uri": "https://localhost:8080/"
        },
        "id": "p29LA4W30u_W",
        "outputId": "89aca725-20be-47b2-9309-d0f92073e15c"
      },
      "source": [
        "n = [10,20,30,40,50,60,70,80,90,100,110,120,130,140,150,160,170,180,190,200]\n",
        "\n",
        "random_grid = {'n_estimators': n}\n",
        "# Create a based model\n",
        "rf = RandomForestClassifier()\n",
        "\n",
        "# Instantiate the grid search model\n",
        "rf_randoms = RandomizedSearchCV(estimator = rf, param_distributions = random_grid, n_iter = 100, \n",
        "                               cv = 6, verbose=2, random_state=42, n_jobs = -1)\n",
        "# Fit the random search model\n",
        "rf_randoms.fit(X_test.toarray(), y_test)"
      ],
      "execution_count": 81,
      "outputs": [
        {
          "output_type": "stream",
          "text": [
            "Fitting 6 folds for each of 20 candidates, totalling 120 fits\n"
          ],
          "name": "stdout"
        },
        {
          "output_type": "stream",
          "text": [
            "/usr/local/lib/python3.6/dist-packages/sklearn/model_selection/_search.py:281: UserWarning:\n",
            "\n",
            "The total space of parameters 20 is smaller than n_iter=100. Running 20 iterations. For exhaustive searches, use GridSearchCV.\n",
            "\n",
            "[Parallel(n_jobs=-1)]: Using backend LokyBackend with 2 concurrent workers.\n",
            "[Parallel(n_jobs=-1)]: Done  83 tasks      | elapsed:   12.1s\n",
            "[Parallel(n_jobs=-1)]: Done 120 out of 120 | elapsed:   23.5s finished\n"
          ],
          "name": "stderr"
        },
        {
          "output_type": "execute_result",
          "data": {
            "text/plain": [
              "RandomizedSearchCV(cv=6, error_score=nan,\n",
              "                   estimator=RandomForestClassifier(bootstrap=True,\n",
              "                                                    ccp_alpha=0.0,\n",
              "                                                    class_weight=None,\n",
              "                                                    criterion='gini',\n",
              "                                                    max_depth=None,\n",
              "                                                    max_features='auto',\n",
              "                                                    max_leaf_nodes=None,\n",
              "                                                    max_samples=None,\n",
              "                                                    min_impurity_decrease=0.0,\n",
              "                                                    min_impurity_split=None,\n",
              "                                                    min_samples_leaf=1,\n",
              "                                                    min_samples_split=2,\n",
              "                                                    min_weight_fraction_leaf=0.0,\n",
              "                                                    n_estimators=100,\n",
              "                                                    n_jobs=None,\n",
              "                                                    oob_score=False,\n",
              "                                                    random_state=None,\n",
              "                                                    verbose=0,\n",
              "                                                    warm_start=False),\n",
              "                   iid='deprecated', n_iter=100, n_jobs=-1,\n",
              "                   param_distributions={'n_estimators': [10, 20, 30, 40, 50, 60,\n",
              "                                                         70, 80, 90, 100, 110,\n",
              "                                                         120, 130, 140, 150,\n",
              "                                                         160, 170, 180, 190,\n",
              "                                                         200]},\n",
              "                   pre_dispatch='2*n_jobs', random_state=42, refit=True,\n",
              "                   return_train_score=False, scoring=None, verbose=2)"
            ]
          },
          "metadata": {
            "tags": []
          },
          "execution_count": 81
        }
      ]
    },
    {
      "cell_type": "code",
      "metadata": {
        "colab": {
          "base_uri": "https://localhost:8080/"
        },
        "id": "_GdmUSCv0-qN",
        "outputId": "01fea33a-cebb-4013-dd9f-2a4b9232a436"
      },
      "source": [
        "print(\"Jumlah Pohon Optimal:\") # print best parameter after tuning \n",
        "print(rf_randoms.best_params_)\n",
        "print(\"Parameter Lain yang Digunakan:\") # Print how our model looks after hyper-parameter tuning \n",
        "print(rf_randoms.best_estimator_)"
      ],
      "execution_count": 82,
      "outputs": [
        {
          "output_type": "stream",
          "text": [
            "Jumlah Pohon Optimal:\n",
            "{'n_estimators': 40}\n",
            "Parameter Lain yang Digunakan:\n",
            "RandomForestClassifier(bootstrap=True, ccp_alpha=0.0, class_weight=None,\n",
            "                       criterion='gini', max_depth=None, max_features='auto',\n",
            "                       max_leaf_nodes=None, max_samples=None,\n",
            "                       min_impurity_decrease=0.0, min_impurity_split=None,\n",
            "                       min_samples_leaf=1, min_samples_split=2,\n",
            "                       min_weight_fraction_leaf=0.0, n_estimators=40,\n",
            "                       n_jobs=None, oob_score=False, random_state=None,\n",
            "                       verbose=0, warm_start=False)\n"
          ],
          "name": "stdout"
        }
      ]
    },
    {
      "cell_type": "code",
      "metadata": {
        "colab": {
          "base_uri": "https://localhost:8080/"
        },
        "id": "yUAZRL1n1A5q",
        "outputId": "670ff040-8d04-40d6-8b11-d9437a10b5da"
      },
      "source": [
        "#Modeling Random Forest\n",
        "rf = RandomForestClassifier(n_estimators=50, random_state=0)\n",
        "rf.fit(X_train.toarray(), y_train)"
      ],
      "execution_count": 83,
      "outputs": [
        {
          "output_type": "execute_result",
          "data": {
            "text/plain": [
              "RandomForestClassifier(bootstrap=True, ccp_alpha=0.0, class_weight=None,\n",
              "                       criterion='gini', max_depth=None, max_features='auto',\n",
              "                       max_leaf_nodes=None, max_samples=None,\n",
              "                       min_impurity_decrease=0.0, min_impurity_split=None,\n",
              "                       min_samples_leaf=1, min_samples_split=2,\n",
              "                       min_weight_fraction_leaf=0.0, n_estimators=50,\n",
              "                       n_jobs=None, oob_score=False, random_state=0, verbose=0,\n",
              "                       warm_start=False)"
            ]
          },
          "metadata": {
            "tags": []
          },
          "execution_count": 83
        }
      ]
    },
    {
      "cell_type": "markdown",
      "metadata": {
        "id": "q13dOBoI0u_X"
      },
      "source": [
        "##### **Test**"
      ]
    },
    {
      "cell_type": "code",
      "metadata": {
        "id": "p82tSh8j0u_X"
      },
      "source": [
        "y_pred_rf= rf.predict(X_test)\n",
        "# y_pred_rf"
      ],
      "execution_count": 84,
      "outputs": []
    },
    {
      "cell_type": "markdown",
      "metadata": {
        "id": "KS2bbjn-0u_X"
      },
      "source": [
        "##### **Evaluation**"
      ]
    },
    {
      "cell_type": "code",
      "metadata": {
        "colab": {
          "base_uri": "https://localhost:8080/",
          "height": 334
        },
        "id": "IGW0GpY80u_X",
        "outputId": "4c74c49d-f8f3-4d41-dfba-361d9fd06ccc"
      },
      "source": [
        "#Show the Confussion Matrix\n",
        "cm1 = metrics.confusion_matrix(y_test, y_pred_rf)\n",
        "plot_confusion_matrix(cm1, figsize=(5,5))\n",
        "plt.show()"
      ],
      "execution_count": 85,
      "outputs": [
        {
          "output_type": "display_data",
          "data": {
            "image/png": "[encoded data removed]",
            "text/plain": [
              "<Figure size 360x360 with 1 Axes>"
            ]
          },
          "metadata": {
            "tags": [],
            "needs_background": "light"
          }
        }
      ]
    },
    {
      "cell_type": "code",
      "metadata": {
        "colab": {
          "base_uri": "https://localhost:8080/"
        },
        "id": "xJEM07xB0u_Y",
        "outputId": "56b68bcd-5957-49df-9395-ae8ea004775f"
      },
      "source": [
        "print(classification_report(y_test, y_pred_rf))"
      ],
      "execution_count": 86,
      "outputs": [
        {
          "output_type": "stream",
          "text": [
            "              precision    recall  f1-score   support\n",
            "\n",
            "           0       0.94      0.84      0.88       122\n",
            "           1       0.83      0.93      0.88       105\n",
            "\n",
            "    accuracy                           0.88       227\n",
            "   macro avg       0.88      0.88      0.88       227\n",
            "weighted avg       0.89      0.88      0.88       227\n",
            "\n"
          ],
          "name": "stdout"
        }
      ]
    },
    {
      "cell_type": "code",
      "metadata": {
        "id": "5sBn0bEx0u_Y"
      },
      "source": [
        ""
      ],
      "execution_count": 86,
      "outputs": []
    },
    {
      "cell_type": "markdown",
      "metadata": {
        "id": "HgWjU98q1kOo"
      },
      "source": [
        "#### **Logistic Regression**\n"
      ]
    },
    {
      "cell_type": "markdown",
      "metadata": {
        "id": "1ctuLg8W1kOo"
      },
      "source": [
        "##### **Train**"
      ]
    },
    {
      "cell_type": "code",
      "metadata": {
        "id": "-OHKjlcp1kOo"
      },
      "source": [
        "logreg = LogisticRegression().fit(X_train.toarray(), y_train)"
      ],
      "execution_count": 87,
      "outputs": []
    },
    {
      "cell_type": "markdown",
      "metadata": {
        "id": "QjE4rGpk1kOp"
      },
      "source": [
        "##### **Test**"
      ]
    },
    {
      "cell_type": "code",
      "metadata": {
        "id": "ewxAgiD81kOp"
      },
      "source": [
        "y_pred_log= logreg.predict(X_test.toarray())\n",
        "# y_pred_log"
      ],
      "execution_count": 88,
      "outputs": []
    },
    {
      "cell_type": "markdown",
      "metadata": {
        "id": "i6I5gvLG1kOp"
      },
      "source": [
        "##### **Evaluation**"
      ]
    },
    {
      "cell_type": "code",
      "metadata": {
        "colab": {
          "base_uri": "https://localhost:8080/",
          "height": 334
        },
        "id": "u25ebfa51kOp",
        "outputId": "1953864c-9679-4116-c8fd-d852d148ae4e"
      },
      "source": [
        "#Show the Confussion Matrix\n",
        "cm1 = metrics.confusion_matrix(y_test, y_pred_log)\n",
        "plot_confusion_matrix(cm1, figsize=(5,5))\n",
        "plt.show()"
      ],
      "execution_count": 89,
      "outputs": [
        {
          "output_type": "display_data",
          "data": {
            "image/png": "[encoded data removed]",
            "text/plain": [
              "<Figure size 360x360 with 1 Axes>"
            ]
          },
          "metadata": {
            "tags": [],
            "needs_background": "light"
          }
        }
      ]
    },
    {
      "cell_type": "code",
      "metadata": {
        "colab": {
          "base_uri": "https://localhost:8080/"
        },
        "id": "xITSadbE1kOp",
        "outputId": "fbb05f98-2308-4140-871c-eb971cb3fe27"
      },
      "source": [
        "print(classification_report(y_test, y_pred_log))"
      ],
      "execution_count": 90,
      "outputs": [
        {
          "output_type": "stream",
          "text": [
            "              precision    recall  f1-score   support\n",
            "\n",
            "           0       0.92      0.84      0.88       122\n",
            "           1       0.83      0.91      0.87       105\n",
            "\n",
            "    accuracy                           0.87       227\n",
            "   macro avg       0.87      0.88      0.87       227\n",
            "weighted avg       0.88      0.87      0.87       227\n",
            "\n"
          ],
          "name": "stdout"
        }
      ]
    },
    {
      "cell_type": "code",
      "metadata": {
        "id": "ShI-wMXA1kOq"
      },
      "source": [
        ""
      ],
      "execution_count": 90,
      "outputs": []
    },
    {
      "cell_type": "markdown",
      "metadata": {
        "id": "myR3TvYebW1P"
      },
      "source": [
        "### **Model Comparison**"
      ]
    },
    {
      "cell_type": "code",
      "metadata": {
        "id": "Ub0GGO1jWl6v",
        "colab": {
          "base_uri": "https://localhost:8080/"
        },
        "outputId": "fe83577b-2401-411a-9b3f-8c034050364a"
      },
      "source": [
        "# Comparing Model Performance\n",
        "print(\"KNN Accuracy =\", metrics.accuracy_score(y_test, y_pred_knn))\n",
        "print(\"KNN Precision =\", metrics.precision_score(y_test, y_pred_knn))\n",
        "print(\"KNN Recall =\", metrics.recall_score(y_test, y_pred_knn))\n",
        "print(\"KNN F1-Score =\", metrics.f1_score(y_test, y_pred_knn))\n",
        "print(\"_______________________\")\n",
        "print(\"Random Forest Accuracy =\", metrics.accuracy_score(y_test, y_pred_rf))\n",
        "print(\"Random Forest Precision =\", metrics.precision_score(y_test, y_pred_rf))\n",
        "print(\"Random Forest Recall =\", metrics.recall_score(y_test, y_pred_rf))\n",
        "print(\"Random Forest F1-Score =\", metrics.f1_score(y_test, y_pred_rf))\n",
        "print(\"_______________________\")\n",
        "print(\"Naive Bayes Accuracy =\", metrics.accuracy_score(y_test, y_pred_nb))\n",
        "print(\"Naive Bayes Precision =\", metrics.precision_score(y_test, y_pred_nb))\n",
        "print(\"Naive Bayes Recall =\", metrics.recall_score(y_test, y_pred_nb))\n",
        "print(\"Naive Bayes F1-Score =\", metrics.f1_score(y_test, y_pred_nb))\n",
        "print(\"_______________________\")\n",
        "print(\"Logistic Regression Accuracy =\", metrics.accuracy_score(y_test, y_pred_log))\n",
        "print(\"Logistic Regression Precision =\", metrics.precision_score(y_test, y_pred_log))\n",
        "print(\"Logistic Regression Recall =\", metrics.recall_score(y_test, y_pred_log))\n",
        "print(\"Logistic Regression F1-Score =\", metrics.f1_score(y_test, y_pred_log))\n",
        "print(\"_______________________\")\n",
        "print(\"ANN Accuracy =\", metrics.accuracy_score(y_test, y_pred_ann))\n",
        "print(\"ANN Precision =\", metrics.precision_score(y_test, y_pred_ann))\n",
        "print(\"ANN Recall =\", metrics.recall_score(y_test, y_pred_ann))\n",
        "print(\"ANN F1-Score =\", metrics.f1_score(y_test, y_pred_ann))\n",
        "print(\"_______________________\")\n",
        "print(\"SVM Accuracy =\", metrics.accuracy_score(y_test, y_pred_svm))\n",
        "print(\"SVM Precision =\", metrics.precision_score(y_test, y_pred_svm))\n",
        "print(\"SVM Recall =\", metrics.recall_score(y_test, y_pred_svm))\n",
        "print(\"SVM F1-Score =\", metrics.f1_score(y_test, y_pred_svm))"
      ],
      "execution_count": 101,
      "outputs": [
        {
          "output_type": "stream",
          "text": [
            "KNN Accuracy = 0.6211453744493393\n",
            "KNN Precision = 1.0\n",
            "KNN Recall = 0.18095238095238095\n",
            "KNN F1-Score = 0.3064516129032258\n",
            "_______________________\n",
            "Random Forest Accuracy = 0.8810572687224669\n",
            "Random Forest Precision = 0.8305084745762712\n",
            "Random Forest Recall = 0.9333333333333333\n",
            "Random Forest F1-Score = 0.8789237668161435\n",
            "_______________________\n",
            "Naive Bayes Accuracy = 0.8061674008810573\n",
            "Naive Bayes Precision = 0.9295774647887324\n",
            "Naive Bayes Recall = 0.6285714285714286\n",
            "Naive Bayes F1-Score = 0.75\n",
            "_______________________\n",
            "Logistic Regression Accuracy = 0.8722466960352423\n",
            "Logistic Regression Precision = 0.8275862068965517\n",
            "Logistic Regression Recall = 0.9142857142857143\n",
            "Logistic Regression F1-Score = 0.8687782805429863\n",
            "_______________________\n",
            "ANN Accuracy = 0.9030837004405287\n",
            "ANN Precision = 0.9108910891089109\n",
            "ANN Recall = 0.8761904761904762\n",
            "ANN F1-Score = 0.8932038834951457\n",
            "_______________________\n",
            "SVM Accuracy = 0.8986784140969163\n",
            "SVM Precision = 0.8360655737704918\n",
            "SVM Recall = 0.9714285714285714\n",
            "SVM F1-Score = 0.8986784140969164\n"
          ],
          "name": "stdout"
        }
      ]
    },
    {
      "cell_type": "code",
      "metadata": {
        "id": "zjI4svZIWl60",
        "colab": {
          "base_uri": "https://localhost:8080/",
          "height": 295
        },
        "outputId": "92e84986-ee4f-4c22-992a-56cb6ba7804b"
      },
      "source": [
        "y_pred_knn_proba = knn.predict_proba(X_test.toarray())[::,1]\n",
        "fprknn, tprknn, _ = metrics.roc_curve(y_test,  y_pred_knn_proba)\n",
        "aucknn = metrics.roc_auc_score(y_test, y_pred_knn_proba)\n",
        "\n",
        "y_pred_rf_proba = rf.predict_proba(X_test.toarray())[::,1]\n",
        "fprrf, tprrf, _ = metrics.roc_curve(y_test,  y_pred_rf_proba)\n",
        "aucrf = metrics.roc_auc_score(y_test, y_pred_rf_proba)\n",
        "\n",
        "y_pred_nb_proba = gnb.predict_proba(X_test.toarray())[::,1]\n",
        "fprnb, tprnb, _ = metrics.roc_curve(y_test,  y_pred_nb_proba)\n",
        "aucnb = metrics.roc_auc_score(y_test, y_pred_nb_proba)\n",
        "\n",
        "y_pred_log_proba = logreg.predict_proba(X_test.toarray())[::,1]\n",
        "fprlog, tprlog, _ = metrics.roc_curve(y_test,  y_pred_log_proba)\n",
        "auclog = metrics.roc_auc_score(y_test, y_pred_log_proba)\n",
        "\n",
        "y_pred_ann_proba = mlp.predict_proba(X_test.toarray())[::,1]\n",
        "fprann, tprann, _ = metrics.roc_curve(y_test,  y_pred_ann_proba)\n",
        "aucann = metrics.roc_auc_score(y_test, y_pred_ann_proba)\n",
        "\n",
        "y_pred_svm_proba = svm.predict_proba(X_test.toarray())[::,1]\n",
        "fprsvm, tprsvm, _ = metrics.roc_curve(y_test,  y_pred_svm_proba)\n",
        "aucsvm = metrics.roc_auc_score(y_test, y_pred_svm_proba)\n",
        "\n",
        "# Comparing ROC Curves\n",
        "plt.plot(fprknn,tprknn,label=\"K-Nearest Neighbour, auc=\"+str(aucknn))\n",
        "plt.plot(fprrf,tprrf,label=\"Random Forest, auc=\"+str(aucrf))\n",
        "plt.plot(fprnb,tprnb,label=\"Naive Bayes, auc=\"+str(aucnb))\n",
        "plt.plot(fprlog,tprlog,label=\"Logistic Regression, auc=\"+str(auclog))\n",
        "plt.plot(fprann,tprann,label=\"Multi Layer Perceptron, auc=\"+str(aucann))\n",
        "plt.plot(fprsvm,tprsvm,label=\"Support Vector Machine, auc=\"+str(aucsvm))\n",
        "plt.title('ROC Curve')\n",
        "plt.xlabel('false positive rate') \n",
        "plt.ylabel('true positive rate')\n",
        "plt.legend(loc=4)\n",
        "plt.show()"
      ],
      "execution_count": 104,
      "outputs": [
        {
          "output_type": "display_data",
          "data": {
            "image/png": "[encoded data removed]",
            "text/plain": [
              "<Figure size 432x288 with 1 Axes>"
            ]
          },
          "metadata": {
            "tags": [],
            "needs_background": "light"
          }
        }
      ]
    }
  ]
}